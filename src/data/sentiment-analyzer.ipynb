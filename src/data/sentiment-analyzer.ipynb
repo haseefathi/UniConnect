{
 "metadata": {
  "language_info": {
   "codemirror_mode": {
    "name": "ipython",
    "version": 3
   },
   "file_extension": ".py",
   "mimetype": "text/x-python",
   "name": "python",
   "nbconvert_exporter": "python",
   "pygments_lexer": "ipython3",
   "version": "3.8.3"
  },
  "orig_nbformat": 2,
  "kernelspec": {
   "name": "python383jvsc74a57bd0cfdd377359446e54a0dbc4147c344b93f39386d0ac34b81f8fbd11ee54488472",
   "display_name": "Python 3.8.3 64-bit"
  },
  "metadata": {
   "interpreter": {
    "hash": "cfdd377359446e54a0dbc4147c344b93f39386d0ac34b81f8fbd11ee54488472"
   }
  }
 },
 "nbformat": 4,
 "nbformat_minor": 2,
 "cells": [
  {
   "cell_type": "code",
   "execution_count": 56,
   "metadata": {},
   "outputs": [],
   "source": [
    "from textblob import TextBlob\n",
    "import pandas as pd"
   ]
  },
  {
   "cell_type": "code",
   "execution_count": 57,
   "metadata": {},
   "outputs": [
    {
     "output_type": "stream",
     "name": "stdout",
     "text": [
      "25\n"
     ]
    },
    {
     "output_type": "execute_result",
     "data": {
      "text/plain": [
       "    Order  ...          University\n",
       "81     82  ...  Harvard University\n",
       "82     83  ...  Harvard University\n",
       "83     84  ...  Harvard University\n",
       "84     85  ...  Harvard University\n",
       "85     86  ...  Harvard University\n",
       "\n",
       "[5 rows x 4 columns]"
      ],
      "text/html": "<div>\n<style scoped>\n    .dataframe tbody tr th:only-of-type {\n        vertical-align: middle;\n    }\n\n    .dataframe tbody tr th {\n        vertical-align: top;\n    }\n\n    .dataframe thead th {\n        text-align: right;\n    }\n</style>\n<table border=\"1\" class=\"dataframe\">\n  <thead>\n    <tr style=\"text-align: right;\">\n      <th></th>\n      <th>Order</th>\n      <th>Happiness</th>\n      <th>Review</th>\n      <th>University</th>\n    </tr>\n  </thead>\n  <tbody>\n    <tr>\n      <th>81</th>\n      <td>82</td>\n      <td>3</td>\n      <td>Extremely overrated. There are much better loc...</td>\n      <td>Harvard University</td>\n    </tr>\n    <tr>\n      <th>82</th>\n      <td>83</td>\n      <td>1</td>\n      <td>The institution that makes your children suffer.</td>\n      <td>Harvard University</td>\n    </tr>\n    <tr>\n      <th>83</th>\n      <td>84</td>\n      <td>5</td>\n      <td>Taught course, smart kid</td>\n      <td>Harvard University</td>\n    </tr>\n    <tr>\n      <th>84</th>\n      <td>85</td>\n      <td>1</td>\n      <td>Harvard is just overrated. Yes I am a graduate</td>\n      <td>Harvard University</td>\n    </tr>\n    <tr>\n      <th>85</th>\n      <td>86</td>\n      <td>3</td>\n      <td>I found that Harvard was a school that you bra...</td>\n      <td>Harvard University</td>\n    </tr>\n  </tbody>\n</table>\n</div>"
     },
     "metadata": {},
     "execution_count": 57
    }
   ],
   "source": [
    "data = pd.read_csv('reviews.csv', header = 0, encoding='cp1252')\n",
    "data = data.loc[data['University'] == 'Harvard University']\n",
    "print(len(data))\n",
    "data.head()"
   ]
  },
  {
   "cell_type": "code",
   "execution_count": 58,
   "metadata": {},
   "outputs": [
    {
     "output_type": "execute_result",
     "data": {
      "text/plain": [
       "['Extremely overrated. There are much better local universities to attend rather than this place. First off, you have everyone competing with each other to get accepted. Then you realize that everyone is the same: high 4.3+ GPA, SAT/ACT scores, and volunteer work. It makes you question everything when everyone is the same and depressed. No thanks!',\n",
       " 'The institution that makes your children suffer.',\n",
       " 'Taught course, smart kid',\n",
       " 'Harvard is just overrated. Yes I am a graduate',\n",
       " 'I found that Harvard was a school that you bragged about getting into, but once you are there the majority of the people there are the same. All of the students had a 4.5+ GPA in high school but yet when we get to college we are barely holding on to a 3.0 GPA. I think it prepares you a lot for the real world and would definitely recommend going.',\n",
       " 'I hated my experience at Harvard University. My profs were awful and I learned nothing.',\n",
       " 'Hell on Earth.',\n",
       " \"Going to Harvard is like entering this magical parallel universe bubble where the world is your oyster; you have access to anything you could want. What they don't tell you is that Harvard doesn't prepare you for the real world, and putting it on your CV isn't a ticket to a great life. I loved it there but 5 yrs later I feel so lost and hopeless.\",\n",
       " 'Harvard is an amazing place because everyone is there to learn from each other. The courses are what you would expect. To succeed at Harvard you have to know how to write and write well, in addition being an active participant within the university community. Harvard seeks those who bring something more than just grades to the community.',\n",
       " 'Very good university but no social life.',\n",
       " \"Everyone here is depressed and you'd save so much money picking a different uni\",\n",
       " \"I love this school! But I'm very sad and alone, if you wish to be social this is not the school...\",\n",
       " 'This place stinks shoulda stuck w/ the u of u',\n",
       " 'The best',\n",
       " 'really good',\n",
       " 'WORST school ever!!',\n",
       " \"Very competitive to get into, but once you're in, it's an amazing place to be at. everyone is rude.\",\n",
       " 'Harvard was a very meaningful experience and assisted me to become the CEO of my own company. Harvard planted the seeds to success, and I cannot thank them enough.',\n",
       " 'it kinda sucks',\n",
       " 'Harvard was pretty good, but from what I hear from friends who were at UCLA, their food was amazing compared to ours. The buffet was still pretty nice lmao',\n",
       " 'BEST COLLEGE EVER, hands down!',\n",
       " 'I think its more of a legacy than real stuff',\n",
       " 'Molded me into the shinobi that I am today.',\n",
       " 'it is very good',\n",
       " 'I could have used more of a challenge thank you']"
      ]
     },
     "metadata": {},
     "execution_count": 58
    }
   ],
   "source": [
    "all_sentences = data['Review'].tolist()\n",
    "all_sentences"
   ]
  },
  {
   "cell_type": "code",
   "execution_count": 59,
   "metadata": {},
   "outputs": [
    {
     "output_type": "stream",
     "name": "stdout",
     "text": [
      "68.0\n"
     ]
    }
   ],
   "source": [
    "count_positive = 0\n",
    "count_negative = 0\n",
    "count_neutral = 0\n",
    "for sentence in all_sentences:\n",
    "    edu = TextBlob(sentence)\n",
    "    x = edu.sentiment.polarity\n",
    "    if x < 0:\n",
    "        # print('Negative')\n",
    "        count_negative += 1\n",
    "    elif x == 0:\n",
    "        # print('Neutral')\n",
    "        count_neutral += 1\n",
    "    elif x > 0 and x <= 1:   \n",
    "        # print('Positive')\n",
    "        count_positive += 1\n",
    "\n",
    "count_total = count_negative + count_neutral + count_positive\n",
    "\n",
    "print((count_positive/count_total) * 100)"
   ]
  }
 ]
}