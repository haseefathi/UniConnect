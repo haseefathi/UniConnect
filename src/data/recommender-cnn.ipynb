{
 "metadata": {
  "language_info": {
   "codemirror_mode": {
    "name": "ipython",
    "version": 3
   },
   "file_extension": ".py",
   "mimetype": "text/x-python",
   "name": "python",
   "nbconvert_exporter": "python",
   "pygments_lexer": "ipython3",
   "version": "3.8.3"
  },
  "orig_nbformat": 2,
  "kernelspec": {
   "name": "python383jvsc74a57bd0cfdd377359446e54a0dbc4147c344b93f39386d0ac34b81f8fbd11ee54488472",
   "display_name": "Python 3.8.3 64-bit"
  },
  "metadata": {
   "interpreter": {
    "hash": "cfdd377359446e54a0dbc4147c344b93f39386d0ac34b81f8fbd11ee54488472"
   }
  }
 },
 "nbformat": 4,
 "nbformat_minor": 2,
 "cells": [
  {
   "cell_type": "code",
   "execution_count": 1,
   "metadata": {},
   "outputs": [],
   "source": [
    "import pandas as pd\n",
    "import math\n",
    "from sklearn import neighbors, datasets\n",
    "from numpy.random import permutation\n",
    "import matplotlib.pyplot as plt\n",
    "import numpy as np\n",
    "from sklearn import svm\n",
    "from sklearn.ensemble import RandomForestClassifier\n",
    "from sklearn.metrics import precision_recall_fscore_support\n",
    "from sklearn.preprocessing import Normalizer\n",
    "from sklearn.model_selection import train_test_split"
   ]
  },
  {
   "cell_type": "code",
   "execution_count": 2,
   "metadata": {},
   "outputs": [],
   "source": [
    "student_info = {\n",
    "                'profile_updated': True,\n",
    "                'gre_verbal_score': 160,\n",
    "                'gre_quant_score': 160,\n",
    "                'gre_awa_score': 5,\n",
    "                'intended_semester': 'F',\n",
    "                'toefl_score': 115,\n",
    "                'undergrad_gpa': 3.5,\n",
    "                'intended_field': 'Computer Science',\n",
    "                'intended_degree': 'MS' \n",
    "            }\n",
    "college_name = 'Carnegie Mellon University'"
   ]
  },
  {
   "cell_type": "code",
   "execution_count": 3,
   "metadata": {},
   "outputs": [
    {
     "output_type": "execute_result",
     "data": {
      "text/plain": [
       "   Number  Toefl  Verbal  Quant  AWA     GPA  GPA Scale  \\\n",
       "0       0    112     160    167  4.5  0.8500         10   \n",
       "1       2     94     146    157  3.0  0.7828        100   \n",
       "2       4     81     148    170  2.5  0.5700        100   \n",
       "3       6    104     150    161  4.5  0.6220        100   \n",
       "4       7     95     147    156  3.0  0.5200        100   \n",
       "\n",
       "                        University  \n",
       "0  Worcester Polytechnic Institute  \n",
       "1  Worcester Polytechnic Institute  \n",
       "2  Worcester Polytechnic Institute  \n",
       "3  Worcester Polytechnic Institute  \n",
       "4  Worcester Polytechnic Institute  "
      ],
      "text/html": "<div>\n<style scoped>\n    .dataframe tbody tr th:only-of-type {\n        vertical-align: middle;\n    }\n\n    .dataframe tbody tr th {\n        vertical-align: top;\n    }\n\n    .dataframe thead th {\n        text-align: right;\n    }\n</style>\n<table border=\"1\" class=\"dataframe\">\n  <thead>\n    <tr style=\"text-align: right;\">\n      <th></th>\n      <th>Number</th>\n      <th>Toefl</th>\n      <th>Verbal</th>\n      <th>Quant</th>\n      <th>AWA</th>\n      <th>GPA</th>\n      <th>GPA Scale</th>\n      <th>University</th>\n    </tr>\n  </thead>\n  <tbody>\n    <tr>\n      <th>0</th>\n      <td>0</td>\n      <td>112</td>\n      <td>160</td>\n      <td>167</td>\n      <td>4.5</td>\n      <td>0.8500</td>\n      <td>10</td>\n      <td>Worcester Polytechnic Institute</td>\n    </tr>\n    <tr>\n      <th>1</th>\n      <td>2</td>\n      <td>94</td>\n      <td>146</td>\n      <td>157</td>\n      <td>3.0</td>\n      <td>0.7828</td>\n      <td>100</td>\n      <td>Worcester Polytechnic Institute</td>\n    </tr>\n    <tr>\n      <th>2</th>\n      <td>4</td>\n      <td>81</td>\n      <td>148</td>\n      <td>170</td>\n      <td>2.5</td>\n      <td>0.5700</td>\n      <td>100</td>\n      <td>Worcester Polytechnic Institute</td>\n    </tr>\n    <tr>\n      <th>3</th>\n      <td>6</td>\n      <td>104</td>\n      <td>150</td>\n      <td>161</td>\n      <td>4.5</td>\n      <td>0.6220</td>\n      <td>100</td>\n      <td>Worcester Polytechnic Institute</td>\n    </tr>\n    <tr>\n      <th>4</th>\n      <td>7</td>\n      <td>95</td>\n      <td>147</td>\n      <td>156</td>\n      <td>3.0</td>\n      <td>0.5200</td>\n      <td>100</td>\n      <td>Worcester Polytechnic Institute</td>\n    </tr>\n  </tbody>\n</table>\n</div>"
     },
     "metadata": {},
     "execution_count": 3
    }
   ],
   "source": [
    "data_file_path = 'CNN_data_processed.csv'\n",
    "\n",
    "data = pd.read_csv(data_file_path, header=0)\n",
    "data.head()\n"
   ]
  },
  {
   "cell_type": "code",
   "execution_count": 4,
   "metadata": {
    "tags": []
   },
   "outputs": [
    {
     "output_type": "execute_result",
     "data": {
      "text/plain": [
       "      Number  Toefl  Verbal  Quant  AWA     GPA  GPA Scale  \\\n",
       "0          0    112     160    167  4.5  0.8500         10   \n",
       "1          2     94     146    157  3.0  0.7828        100   \n",
       "2          4     81     148    170  2.5  0.5700        100   \n",
       "3          6    104     150    161  4.5  0.6220        100   \n",
       "4          7     95     147    156  3.0  0.5200        100   \n",
       "...      ...    ...     ...    ...  ...     ...        ...   \n",
       "5141   10292    116     130    170  5.0  0.8500         10   \n",
       "5142   10295    106     151    159  3.5  0.8724         10   \n",
       "5143   10296    109     165    170  3.5  0.6785        100   \n",
       "5144   10297    113     159    163  3.5  0.8200         10   \n",
       "5145   10298     96     150    160  4.0  0.7200        100   \n",
       "\n",
       "                             University  \n",
       "0       Worcester Polytechnic Institute  \n",
       "1       Worcester Polytechnic Institute  \n",
       "2       Worcester Polytechnic Institute  \n",
       "3       Worcester Polytechnic Institute  \n",
       "4       Worcester Polytechnic Institute  \n",
       "...                                 ...  \n",
       "5141  University of Southern California  \n",
       "5142  University of Southern California  \n",
       "5143  University of Southern California  \n",
       "5144  University of Southern California  \n",
       "5145  University of Southern California  \n",
       "\n",
       "[5146 rows x 8 columns]"
      ],
      "text/html": "<div>\n<style scoped>\n    .dataframe tbody tr th:only-of-type {\n        vertical-align: middle;\n    }\n\n    .dataframe tbody tr th {\n        vertical-align: top;\n    }\n\n    .dataframe thead th {\n        text-align: right;\n    }\n</style>\n<table border=\"1\" class=\"dataframe\">\n  <thead>\n    <tr style=\"text-align: right;\">\n      <th></th>\n      <th>Number</th>\n      <th>Toefl</th>\n      <th>Verbal</th>\n      <th>Quant</th>\n      <th>AWA</th>\n      <th>GPA</th>\n      <th>GPA Scale</th>\n      <th>University</th>\n    </tr>\n  </thead>\n  <tbody>\n    <tr>\n      <th>0</th>\n      <td>0</td>\n      <td>112</td>\n      <td>160</td>\n      <td>167</td>\n      <td>4.5</td>\n      <td>0.8500</td>\n      <td>10</td>\n      <td>Worcester Polytechnic Institute</td>\n    </tr>\n    <tr>\n      <th>1</th>\n      <td>2</td>\n      <td>94</td>\n      <td>146</td>\n      <td>157</td>\n      <td>3.0</td>\n      <td>0.7828</td>\n      <td>100</td>\n      <td>Worcester Polytechnic Institute</td>\n    </tr>\n    <tr>\n      <th>2</th>\n      <td>4</td>\n      <td>81</td>\n      <td>148</td>\n      <td>170</td>\n      <td>2.5</td>\n      <td>0.5700</td>\n      <td>100</td>\n      <td>Worcester Polytechnic Institute</td>\n    </tr>\n    <tr>\n      <th>3</th>\n      <td>6</td>\n      <td>104</td>\n      <td>150</td>\n      <td>161</td>\n      <td>4.5</td>\n      <td>0.6220</td>\n      <td>100</td>\n      <td>Worcester Polytechnic Institute</td>\n    </tr>\n    <tr>\n      <th>4</th>\n      <td>7</td>\n      <td>95</td>\n      <td>147</td>\n      <td>156</td>\n      <td>3.0</td>\n      <td>0.5200</td>\n      <td>100</td>\n      <td>Worcester Polytechnic Institute</td>\n    </tr>\n    <tr>\n      <th>...</th>\n      <td>...</td>\n      <td>...</td>\n      <td>...</td>\n      <td>...</td>\n      <td>...</td>\n      <td>...</td>\n      <td>...</td>\n      <td>...</td>\n    </tr>\n    <tr>\n      <th>5141</th>\n      <td>10292</td>\n      <td>116</td>\n      <td>130</td>\n      <td>170</td>\n      <td>5.0</td>\n      <td>0.8500</td>\n      <td>10</td>\n      <td>University of Southern California</td>\n    </tr>\n    <tr>\n      <th>5142</th>\n      <td>10295</td>\n      <td>106</td>\n      <td>151</td>\n      <td>159</td>\n      <td>3.5</td>\n      <td>0.8724</td>\n      <td>10</td>\n      <td>University of Southern California</td>\n    </tr>\n    <tr>\n      <th>5143</th>\n      <td>10296</td>\n      <td>109</td>\n      <td>165</td>\n      <td>170</td>\n      <td>3.5</td>\n      <td>0.6785</td>\n      <td>100</td>\n      <td>University of Southern California</td>\n    </tr>\n    <tr>\n      <th>5144</th>\n      <td>10297</td>\n      <td>113</td>\n      <td>159</td>\n      <td>163</td>\n      <td>3.5</td>\n      <td>0.8200</td>\n      <td>10</td>\n      <td>University of Southern California</td>\n    </tr>\n    <tr>\n      <th>5145</th>\n      <td>10298</td>\n      <td>96</td>\n      <td>150</td>\n      <td>160</td>\n      <td>4.0</td>\n      <td>0.7200</td>\n      <td>100</td>\n      <td>University of Southern California</td>\n    </tr>\n  </tbody>\n</table>\n<p>5146 rows × 8 columns</p>\n</div>"
     },
     "metadata": {},
     "execution_count": 4
    }
   ],
   "source": [
    "len(data)\n",
    "# removing unis with low frequencies\n",
    "# column = 'univName'\n",
    "# minimum_frequency = 2580\n",
    "# data = data[data.groupby(column)[column].transform('count').ge(minimum_frequency)]\n",
    "\n",
    "# # data = data.drop('Degree', 1)\n",
    "# data = data.drop('Decision', 1)\n",
    "# data = data.drop('Season', 1)\n",
    "data"
   ]
  },
  {
   "cell_type": "code",
   "execution_count": 5,
   "metadata": {},
   "outputs": [
    {
     "output_type": "execute_result",
     "data": {
      "text/plain": [
       "['Worcester Polytechnic Institute',\n",
       " 'Wayne State University',\n",
       " 'Virginia Polytechnic Institute and State University',\n",
       " 'University of Wisconsin Madison',\n",
       " 'University of Washington',\n",
       " 'University of Utah',\n",
       " 'University of Texas Dallas',\n",
       " 'University of Texas Austin',\n",
       " 'University of Texas Arlington',\n",
       " 'University of Southern California']"
      ]
     },
     "metadata": {},
     "execution_count": 5
    }
   ],
   "source": [
    "all_uni_list = data['University'].unique().tolist()\n",
    "all_uni_list"
   ]
  },
  {
   "cell_type": "code",
   "execution_count": 6,
   "metadata": {},
   "outputs": [
    {
     "output_type": "stream",
     "name": "stdout",
     "text": [
      "<class 'pandas.core.frame.DataFrame'>\n99                 Wayne State University\n1501           University of Texas Dallas\n3994    University of Southern California\n2906           University of Texas Dallas\n5111    University of Southern California\n                      ...                \n4426    University of Southern California\n466       University of Wisconsin Madison\n3092           University of Texas Dallas\n3772        University of Texas Arlington\n860                    University of Utah\nName: University, Length: 4117, dtype: object\n"
     ]
    }
   ],
   "source": [
    "np.random.seed(42)\n",
    "random_indices = permutation(data.index)\n",
    "test_cutoff = math.floor(len(data)/5)\n",
    "# print(test_cutoff)\n",
    "test = data.loc[random_indices[1:test_cutoff]]\n",
    "print(type(test))\n",
    "train = data.loc[random_indices[test_cutoff:]]\n",
    "\n",
    "train_output_data = train['University']\n",
    "\n",
    "train_input_data = train\n",
    "train_input_data = train_input_data.drop('University',1)\n",
    "test_output_data = test['University']\n",
    "test_input_data = test\n",
    "test_input_data = test_input_data.drop('University',1)\n",
    "print(train_output_data)"
   ]
  },
  {
   "cell_type": "code",
   "execution_count": 7,
   "metadata": {},
   "outputs": [],
   "source": [
    "def label_uni(college_name):\n",
    "    index = all_uni_list.index(college_name)\n",
    "    initial_list = [0]*len(all_uni_list)\n",
    "    initial_list[index] = 1\n",
    "    return np.array(initial_list)"
   ]
  },
  {
   "cell_type": "code",
   "execution_count": 8,
   "metadata": {},
   "outputs": [],
   "source": [
    "trainlabel=[]\n",
    "for i in train_output_data :\n",
    "    train_labels=label_uni(i)\n",
    "    trainlabel.append(train_labels)\n"
   ]
  },
  {
   "cell_type": "code",
   "execution_count": 9,
   "metadata": {},
   "outputs": [
    {
     "output_type": "stream",
     "name": "stdout",
     "text": [
      "(4117, 10)\n(4117, 7)\n(1028, 7)\n"
     ]
    }
   ],
   "source": [
    "trainlabel=np.array(trainlabel)\n",
    "print(trainlabel.shape)\n",
    "\n",
    "print(train_input_data.shape)\n",
    "print(test_input_data.shape)"
   ]
  },
  {
   "cell_type": "code",
   "execution_count": 10,
   "metadata": {},
   "outputs": [],
   "source": [
    "from __future__ import print_function\n",
    "import keras\n",
    "from keras.datasets import mnist\n",
    "from keras.models import Sequential\n",
    "from keras.layers import Dense, Dropout, Flatten\n",
    "from keras.layers import Conv1D, MaxPooling1D\n",
    "from keras import backend as K\n",
    "model = Sequential()\n",
    "model.add(Conv1D(filters=64, kernel_size=3, activation='relu', input_shape=(7,1)))\n",
    "model.add(Conv1D(filters=64, kernel_size=3, activation='relu'))\n",
    "model.add(Dropout(0.5))\n",
    "model.add(MaxPooling1D(pool_size=2, padding='same'))\n",
    "model.add(Flatten())\n",
    "model.add(Dense(100, activation='relu'))\n",
    "#model.add(Dropout(0.5))\n",
    "model.add(Dense(10, activation='softmax'))"
   ]
  },
  {
   "cell_type": "code",
   "execution_count": 11,
   "metadata": {},
   "outputs": [],
   "source": [
    "model.compile(loss='categorical_crossentropy', optimizer='adam', metrics=['accuracy'])"
   ]
  },
  {
   "cell_type": "code",
   "execution_count": 12,
   "metadata": {},
   "outputs": [
    {
     "output_type": "stream",
     "name": "stdout",
     "text": [
      "7\n"
     ]
    }
   ],
   "source": [
    "print(len(train_input_data.columns))\n",
    "train_input_data=train_input_data.values.reshape(4117,7,1)\n",
    "\n",
    "test_input_data=test_input_data.values.reshape(1028,7,1)"
   ]
  },
  {
   "cell_type": "code",
   "execution_count": 13,
   "metadata": {},
   "outputs": [],
   "source": [
    "train_mean = np.mean(train_input_data, axis=0)\n",
    "train_std = np.std(train_input_data, axis=0)\n",
    "test_mean = np.mean(test_input_data, axis=0)\n",
    "test_std = np.std(test_input_data, axis=0)\n",
    "\n",
    "train_norm = (train_input_data - train_mean) / train_std\n",
    "test_norm = (test_input_data - test_mean) / test_std"
   ]
  },
  {
   "cell_type": "code",
   "execution_count": 14,
   "metadata": {},
   "outputs": [
    {
     "output_type": "stream",
     "name": "stdout",
     "text": [
      "(1028, 10)\n(4117, 7, 1)\n"
     ]
    }
   ],
   "source": [
    "testlabel=[]\n",
    "for i in test_output_data :\n",
    "    test_labels=label_uni(i)\n",
    "    testlabel.append(test_labels)\n",
    "    \n",
    "testlabel=np.array(testlabel)\n",
    "print(testlabel.shape)\n",
    "print(train_input_data.shape)"
   ]
  },
  {
   "cell_type": "code",
   "execution_count": 15,
   "metadata": {},
   "outputs": [
    {
     "output_type": "stream",
     "name": "stdout",
     "text": [
      "Epoch 1/5\n",
      "129/129 [==============================] - 1s 2ms/step - loss: 1.8634 - accuracy: 0.4629\n",
      "Epoch 2/5\n",
      "129/129 [==============================] - 0s 2ms/step - loss: 1.0944 - accuracy: 0.6668\n",
      "Epoch 3/5\n",
      "129/129 [==============================] - 0s 2ms/step - loss: 0.9186 - accuracy: 0.7088\n",
      "Epoch 4/5\n",
      "129/129 [==============================] - 0s 2ms/step - loss: 0.7747 - accuracy: 0.7382\n",
      "Epoch 5/5\n",
      "129/129 [==============================] - 0s 2ms/step - loss: 0.7278 - accuracy: 0.7563\n"
     ]
    },
    {
     "output_type": "execute_result",
     "data": {
      "text/plain": [
       "<tensorflow.python.keras.callbacks.History at 0x1c471f0a910>"
      ]
     },
     "metadata": {},
     "execution_count": 15
    }
   ],
   "source": [
    "model.fit(train_norm, trainlabel, epochs=5, verbose=1)"
   ]
  },
  {
   "cell_type": "code",
   "execution_count": 16,
   "metadata": {},
   "outputs": [],
   "source": [
    "def call(x):\n",
    "    return all_uni_list[x]"
   ]
  },
  {
   "cell_type": "code",
   "execution_count": 17,
   "metadata": {},
   "outputs": [
    {
     "output_type": "stream",
     "name": "stdout",
     "text": [
      "33/33 [==============================] - 0s 1ms/step - loss: 0.6405 - accuracy: 0.7928\n",
      "Test loss: 0.6404510736465454\n",
      "Test accuracy: 79.2801558971405\n",
      "[[[ 0.75326052]\n",
      "  [-1.33183846]\n",
      "  [-0.90995566]\n",
      "  [-0.28526469]\n",
      "  [-0.12140528]\n",
      "  [-1.08576708]\n",
      "  [ 0.90454148]]]\n",
      "len 1028\n",
      "[[1.3905863e-03 1.7202352e-03 5.1614217e-04 1.2055013e-03 2.8846336e-03\n",
      "  3.0537471e-03 7.2486527e-02 3.3646910e-03 8.8183290e-01 3.1545069e-02]]\n",
      "University of Texas Arlington\n"
     ]
    }
   ],
   "source": [
    "from numpy.random import randint\n",
    "from numpy import argmax\n",
    "from keras.utils.np_utils import to_categorical\n",
    "\n",
    "score = model.evaluate(test_norm, testlabel, verbose=1)\n",
    "print('Test loss:', score[0])\n",
    "print('Test accuracy:', score[1]*100)\n",
    "print(test_norm[1000:1001])\n",
    "print('len', len(test_norm))\n",
    "y = model.predict(test_norm[1000:1001])\n",
    "#print(test_input_data[1:])\n",
    "print(y)\n",
    "m=call(np.argmax(y))\n",
    "print(m)"
   ]
  },
  {
   "cell_type": "code",
   "execution_count": 18,
   "metadata": {},
   "outputs": [
    {
     "output_type": "stream",
     "name": "stdout",
     "text": [
      "52/52 - 0s\n",
      "              precision    recall  f1-score   support\n",
      "\n",
      "           0       0.00      0.00      0.00        20\n",
      "           1       1.00      0.08      0.14        26\n",
      "           2       0.78      0.55      0.64        53\n",
      "           3       0.00      0.00      0.00        41\n",
      "           4       0.00      0.00      0.00        46\n",
      "           5       0.00      0.00      0.00        47\n",
      "           6       0.88      0.97      0.93       400\n",
      "           7       1.00      0.25      0.40        32\n",
      "           8       0.94      0.79      0.86       132\n",
      "           9       0.93      0.99      0.96       231\n",
      "\n",
      "   micro avg       0.90      0.74      0.81      1028\n",
      "   macro avg       0.55      0.36      0.39      1028\n",
      "weighted avg       0.77      0.74      0.73      1028\n",
      " samples avg       0.74      0.74      0.74      1028\n",
      "\n",
      "C:\\Users\\hasee\\AppData\\Local\\Programs\\Python\\Python38\\lib\\site-packages\\sklearn\\metrics\\_classification.py:1221: UndefinedMetricWarning: Precision and F-score are ill-defined and being set to 0.0 in labels with no predicted samples. Use `zero_division` parameter to control this behavior.\n",
      "  _warn_prf(average, modifier, msg_start, len(result))\n",
      "C:\\Users\\hasee\\AppData\\Local\\Programs\\Python\\Python38\\lib\\site-packages\\sklearn\\metrics\\_classification.py:1221: UndefinedMetricWarning: Precision and F-score are ill-defined and being set to 0.0 in samples with no predicted labels. Use `zero_division` parameter to control this behavior.\n",
      "  _warn_prf(average, modifier, msg_start, len(result))\n"
     ]
    }
   ],
   "source": [
    "from sklearn.metrics import classification_report\n",
    "y_pred=model.predict(test_norm, batch_size=20, verbose=2)\n",
    "report = classification_report(testlabel, y_pred.round())\n",
    "print(report)"
   ]
  },
  {
   "cell_type": "code",
   "execution_count": 19,
   "metadata": {},
   "outputs": [
    {
     "output_type": "display_data",
     "data": {
      "text/plain": "<Figure size 432x288 with 1 Axes>",
      "image/svg+xml": "<?xml version=\"1.0\" encoding=\"utf-8\" standalone=\"no\"?>\r\n<!DOCTYPE svg PUBLIC \"-//W3C//DTD SVG 1.1//EN\"\r\n  \"http://www.w3.org/Graphics/SVG/1.1/DTD/svg11.dtd\">\r\n<!-- Created with matplotlib (https://matplotlib.org/) -->\r\n<svg height=\"248.518125pt\" version=\"1.1\" viewBox=\"0 0 365.878125 248.518125\" width=\"365.878125pt\" xmlns=\"http://www.w3.org/2000/svg\" xmlns:xlink=\"http://www.w3.org/1999/xlink\">\r\n <metadata>\r\n  <rdf:RDF xmlns:cc=\"http://creativecommons.org/ns#\" xmlns:dc=\"http://purl.org/dc/elements/1.1/\" xmlns:rdf=\"http://www.w3.org/1999/02/22-rdf-syntax-ns#\">\r\n   <cc:Work>\r\n    <dc:type rdf:resource=\"http://purl.org/dc/dcmitype/StillImage\"/>\r\n    <dc:date>2021-05-08T17:11:29.213944</dc:date>\r\n    <dc:format>image/svg+xml</dc:format>\r\n    <dc:creator>\r\n     <cc:Agent>\r\n      <dc:title>Matplotlib v3.3.3, https://matplotlib.org/</dc:title>\r\n     </cc:Agent>\r\n    </dc:creator>\r\n   </cc:Work>\r\n  </rdf:RDF>\r\n </metadata>\r\n <defs>\r\n  <style type=\"text/css\">*{stroke-linecap:butt;stroke-linejoin:round;}</style>\r\n </defs>\r\n <g id=\"figure_1\">\r\n  <g id=\"patch_1\">\r\n   <path d=\"M -0 248.518125 \r\nL 365.878125 248.518125 \r\nL 365.878125 0 \r\nL -0 0 \r\nz\r\n\" style=\"fill:none;\"/>\r\n  </g>\r\n  <g id=\"axes_1\">\r\n   <g id=\"patch_2\">\r\n    <path d=\"M 23.878125 224.64 \r\nL 358.678125 224.64 \r\nL 358.678125 7.2 \r\nL 23.878125 7.2 \r\nz\r\n\" style=\"fill:#ffffff;\"/>\r\n   </g>\r\n   <g id=\"QuadMesh_1\">\r\n    <path clip-path=\"url(#p0cbb38c517)\" d=\"M 23.878125 7.2 \r\nL 57.358125 7.2 \r\nL 57.358125 28.944 \r\nL 23.878125 28.944 \r\nL 23.878125 7.2 \r\n\" style=\"fill:#4a63d3;\"/>\r\n    <path clip-path=\"url(#p0cbb38c517)\" d=\"M 57.358125 7.2 \r\nL 90.838125 7.2 \r\nL 90.838125 28.944 \r\nL 57.358125 28.944 \r\nL 57.358125 7.2 \r\n\" style=\"fill:#3b4cc0;\"/>\r\n    <path clip-path=\"url(#p0cbb38c517)\" d=\"M 90.838125 7.2 \r\nL 124.318125 7.2 \r\nL 124.318125 28.944 \r\nL 90.838125 28.944 \r\nL 90.838125 7.2 \r\n\" style=\"fill:#3b4cc0;\"/>\r\n    <path clip-path=\"url(#p0cbb38c517)\" d=\"M 124.318125 7.2 \r\nL 157.798125 7.2 \r\nL 157.798125 28.944 \r\nL 124.318125 28.944 \r\nL 124.318125 7.2 \r\n\" style=\"fill:#3b4cc0;\"/>\r\n    <path clip-path=\"url(#p0cbb38c517)\" d=\"M 157.798125 7.2 \r\nL 191.278125 7.2 \r\nL 191.278125 28.944 \r\nL 157.798125 28.944 \r\nL 157.798125 7.2 \r\n\" style=\"fill:#3b4cc0;\"/>\r\n    <path clip-path=\"url(#p0cbb38c517)\" d=\"M 191.278125 7.2 \r\nL 224.758125 7.2 \r\nL 224.758125 28.944 \r\nL 191.278125 28.944 \r\nL 191.278125 7.2 \r\n\" style=\"fill:#3b4cc0;\"/>\r\n    <path clip-path=\"url(#p0cbb38c517)\" d=\"M 224.758125 7.2 \r\nL 258.238125 7.2 \r\nL 258.238125 28.944 \r\nL 224.758125 28.944 \r\nL 224.758125 7.2 \r\n\" style=\"fill:#3b4cc0;\"/>\r\n    <path clip-path=\"url(#p0cbb38c517)\" d=\"M 258.238125 7.2 \r\nL 291.718125 7.2 \r\nL 291.718125 28.944 \r\nL 258.238125 28.944 \r\nL 258.238125 7.2 \r\n\" style=\"fill:#3b4cc0;\"/>\r\n    <path clip-path=\"url(#p0cbb38c517)\" d=\"M 291.718125 7.2 \r\nL 325.198125 7.2 \r\nL 325.198125 28.944 \r\nL 291.718125 28.944 \r\nL 291.718125 7.2 \r\n\" style=\"fill:#3b4cc0;\"/>\r\n    <path clip-path=\"url(#p0cbb38c517)\" d=\"M 325.198125 7.2 \r\nL 358.678125 7.2 \r\nL 358.678125 28.944 \r\nL 325.198125 28.944 \r\nL 325.198125 7.2 \r\n\" style=\"fill:#3b4cc0;\"/>\r\n    <path clip-path=\"url(#p0cbb38c517)\" d=\"M 23.878125 28.944 \r\nL 57.358125 28.944 \r\nL 57.358125 50.688 \r\nL 23.878125 50.688 \r\nL 23.878125 28.944 \r\n\" style=\"fill:#4a63d3;\"/>\r\n    <path clip-path=\"url(#p0cbb38c517)\" d=\"M 57.358125 28.944 \r\nL 90.838125 28.944 \r\nL 90.838125 50.688 \r\nL 57.358125 50.688 \r\nL 57.358125 28.944 \r\n\" style=\"fill:#3c4ec2;\"/>\r\n    <path clip-path=\"url(#p0cbb38c517)\" d=\"M 90.838125 28.944 \r\nL 124.318125 28.944 \r\nL 124.318125 50.688 \r\nL 90.838125 50.688 \r\nL 90.838125 28.944 \r\n\" style=\"fill:#3c4ec2;\"/>\r\n    <path clip-path=\"url(#p0cbb38c517)\" d=\"M 124.318125 28.944 \r\nL 157.798125 28.944 \r\nL 157.798125 50.688 \r\nL 124.318125 50.688 \r\nL 124.318125 28.944 \r\n\" style=\"fill:#3b4cc0;\"/>\r\n    <path clip-path=\"url(#p0cbb38c517)\" d=\"M 157.798125 28.944 \r\nL 191.278125 28.944 \r\nL 191.278125 50.688 \r\nL 157.798125 50.688 \r\nL 157.798125 28.944 \r\n\" style=\"fill:#3b4cc0;\"/>\r\n    <path clip-path=\"url(#p0cbb38c517)\" d=\"M 191.278125 28.944 \r\nL 224.758125 28.944 \r\nL 224.758125 50.688 \r\nL 191.278125 50.688 \r\nL 191.278125 28.944 \r\n\" style=\"fill:#3b4cc0;\"/>\r\n    <path clip-path=\"url(#p0cbb38c517)\" d=\"M 224.758125 28.944 \r\nL 258.238125 28.944 \r\nL 258.238125 50.688 \r\nL 224.758125 50.688 \r\nL 224.758125 28.944 \r\n\" style=\"fill:#3b4cc0;\"/>\r\n    <path clip-path=\"url(#p0cbb38c517)\" d=\"M 258.238125 28.944 \r\nL 291.718125 28.944 \r\nL 291.718125 50.688 \r\nL 258.238125 50.688 \r\nL 258.238125 28.944 \r\n\" style=\"fill:#3b4cc0;\"/>\r\n    <path clip-path=\"url(#p0cbb38c517)\" d=\"M 291.718125 28.944 \r\nL 325.198125 28.944 \r\nL 325.198125 50.688 \r\nL 291.718125 50.688 \r\nL 291.718125 28.944 \r\n\" style=\"fill:#3b4cc0;\"/>\r\n    <path clip-path=\"url(#p0cbb38c517)\" d=\"M 325.198125 28.944 \r\nL 358.678125 28.944 \r\nL 358.678125 50.688 \r\nL 325.198125 50.688 \r\nL 325.198125 28.944 \r\n\" style=\"fill:#3b4cc0;\"/>\r\n    <path clip-path=\"url(#p0cbb38c517)\" d=\"M 23.878125 50.688 \r\nL 57.358125 50.688 \r\nL 57.358125 72.432 \r\nL 23.878125 72.432 \r\nL 23.878125 50.688 \r\n\" style=\"fill:#4c66d6;\"/>\r\n    <path clip-path=\"url(#p0cbb38c517)\" d=\"M 57.358125 50.688 \r\nL 90.838125 50.688 \r\nL 90.838125 72.432 \r\nL 57.358125 72.432 \r\nL 57.358125 50.688 \r\n\" style=\"fill:#3b4cc0;\"/>\r\n    <path clip-path=\"url(#p0cbb38c517)\" d=\"M 90.838125 50.688 \r\nL 124.318125 50.688 \r\nL 124.318125 72.432 \r\nL 90.838125 72.432 \r\nL 90.838125 50.688 \r\n\" style=\"fill:#516ddb;\"/>\r\n    <path clip-path=\"url(#p0cbb38c517)\" d=\"M 124.318125 50.688 \r\nL 157.798125 50.688 \r\nL 157.798125 72.432 \r\nL 124.318125 72.432 \r\nL 124.318125 50.688 \r\n\" style=\"fill:#3b4cc0;\"/>\r\n    <path clip-path=\"url(#p0cbb38c517)\" d=\"M 157.798125 50.688 \r\nL 191.278125 50.688 \r\nL 191.278125 72.432 \r\nL 157.798125 72.432 \r\nL 157.798125 50.688 \r\n\" style=\"fill:#3b4cc0;\"/>\r\n    <path clip-path=\"url(#p0cbb38c517)\" d=\"M 191.278125 50.688 \r\nL 224.758125 50.688 \r\nL 224.758125 72.432 \r\nL 191.278125 72.432 \r\nL 191.278125 50.688 \r\n\" style=\"fill:#3b4cc0;\"/>\r\n    <path clip-path=\"url(#p0cbb38c517)\" d=\"M 224.758125 50.688 \r\nL 258.238125 50.688 \r\nL 258.238125 72.432 \r\nL 224.758125 72.432 \r\nL 224.758125 50.688 \r\n\" style=\"fill:#3b4cc0;\"/>\r\n    <path clip-path=\"url(#p0cbb38c517)\" d=\"M 258.238125 50.688 \r\nL 291.718125 50.688 \r\nL 291.718125 72.432 \r\nL 258.238125 72.432 \r\nL 258.238125 50.688 \r\n\" style=\"fill:#3b4cc0;\"/>\r\n    <path clip-path=\"url(#p0cbb38c517)\" d=\"M 291.718125 50.688 \r\nL 325.198125 50.688 \r\nL 325.198125 72.432 \r\nL 291.718125 72.432 \r\nL 291.718125 50.688 \r\n\" style=\"fill:#3b4cc0;\"/>\r\n    <path clip-path=\"url(#p0cbb38c517)\" d=\"M 325.198125 50.688 \r\nL 358.678125 50.688 \r\nL 358.678125 72.432 \r\nL 325.198125 72.432 \r\nL 325.198125 50.688 \r\n\" style=\"fill:#3b4cc0;\"/>\r\n    <path clip-path=\"url(#p0cbb38c517)\" d=\"M 23.878125 72.432 \r\nL 57.358125 72.432 \r\nL 57.358125 94.176 \r\nL 23.878125 94.176 \r\nL 23.878125 72.432 \r\n\" style=\"fill:#5673e0;\"/>\r\n    <path clip-path=\"url(#p0cbb38c517)\" d=\"M 57.358125 72.432 \r\nL 90.838125 72.432 \r\nL 90.838125 94.176 \r\nL 57.358125 94.176 \r\nL 57.358125 72.432 \r\n\" style=\"fill:#3b4cc0;\"/>\r\n    <path clip-path=\"url(#p0cbb38c517)\" d=\"M 90.838125 72.432 \r\nL 124.318125 72.432 \r\nL 124.318125 94.176 \r\nL 90.838125 94.176 \r\nL 90.838125 72.432 \r\n\" style=\"fill:#3e51c5;\"/>\r\n    <path clip-path=\"url(#p0cbb38c517)\" d=\"M 124.318125 72.432 \r\nL 157.798125 72.432 \r\nL 157.798125 94.176 \r\nL 124.318125 94.176 \r\nL 124.318125 72.432 \r\n\" style=\"fill:#3b4cc0;\"/>\r\n    <path clip-path=\"url(#p0cbb38c517)\" d=\"M 157.798125 72.432 \r\nL 191.278125 72.432 \r\nL 191.278125 94.176 \r\nL 157.798125 94.176 \r\nL 157.798125 72.432 \r\n\" style=\"fill:#3b4cc0;\"/>\r\n    <path clip-path=\"url(#p0cbb38c517)\" d=\"M 191.278125 72.432 \r\nL 224.758125 72.432 \r\nL 224.758125 94.176 \r\nL 191.278125 94.176 \r\nL 191.278125 72.432 \r\n\" style=\"fill:#3b4cc0;\"/>\r\n    <path clip-path=\"url(#p0cbb38c517)\" d=\"M 224.758125 72.432 \r\nL 258.238125 72.432 \r\nL 258.238125 94.176 \r\nL 224.758125 94.176 \r\nL 224.758125 72.432 \r\n\" style=\"fill:#3b4cc0;\"/>\r\n    <path clip-path=\"url(#p0cbb38c517)\" d=\"M 258.238125 72.432 \r\nL 291.718125 72.432 \r\nL 291.718125 94.176 \r\nL 258.238125 94.176 \r\nL 258.238125 72.432 \r\n\" style=\"fill:#3b4cc0;\"/>\r\n    <path clip-path=\"url(#p0cbb38c517)\" d=\"M 291.718125 72.432 \r\nL 325.198125 72.432 \r\nL 325.198125 94.176 \r\nL 291.718125 94.176 \r\nL 291.718125 72.432 \r\n\" style=\"fill:#3b4cc0;\"/>\r\n    <path clip-path=\"url(#p0cbb38c517)\" d=\"M 325.198125 72.432 \r\nL 358.678125 72.432 \r\nL 358.678125 94.176 \r\nL 325.198125 94.176 \r\nL 325.198125 72.432 \r\n\" style=\"fill:#3b4cc0;\"/>\r\n    <path clip-path=\"url(#p0cbb38c517)\" d=\"M 23.878125 94.176 \r\nL 57.358125 94.176 \r\nL 57.358125 115.92 \r\nL 23.878125 115.92 \r\nL 23.878125 94.176 \r\n\" style=\"fill:#5470de;\"/>\r\n    <path clip-path=\"url(#p0cbb38c517)\" d=\"M 57.358125 94.176 \r\nL 90.838125 94.176 \r\nL 90.838125 115.92 \r\nL 57.358125 115.92 \r\nL 57.358125 94.176 \r\n\" style=\"fill:#3b4cc0;\"/>\r\n    <path clip-path=\"url(#p0cbb38c517)\" d=\"M 90.838125 94.176 \r\nL 124.318125 94.176 \r\nL 124.318125 115.92 \r\nL 90.838125 115.92 \r\nL 90.838125 94.176 \r\n\" style=\"fill:#3b4cc0;\"/>\r\n    <path clip-path=\"url(#p0cbb38c517)\" d=\"M 124.318125 94.176 \r\nL 157.798125 94.176 \r\nL 157.798125 115.92 \r\nL 124.318125 115.92 \r\nL 124.318125 94.176 \r\n\" style=\"fill:#3b4cc0;\"/>\r\n    <path clip-path=\"url(#p0cbb38c517)\" d=\"M 157.798125 94.176 \r\nL 191.278125 94.176 \r\nL 191.278125 115.92 \r\nL 157.798125 115.92 \r\nL 157.798125 94.176 \r\n\" style=\"fill:#3b4cc0;\"/>\r\n    <path clip-path=\"url(#p0cbb38c517)\" d=\"M 191.278125 94.176 \r\nL 224.758125 94.176 \r\nL 224.758125 115.92 \r\nL 191.278125 115.92 \r\nL 191.278125 94.176 \r\n\" style=\"fill:#3b4cc0;\"/>\r\n    <path clip-path=\"url(#p0cbb38c517)\" d=\"M 224.758125 94.176 \r\nL 258.238125 94.176 \r\nL 258.238125 115.92 \r\nL 224.758125 115.92 \r\nL 224.758125 94.176 \r\n\" style=\"fill:#445acc;\"/>\r\n    <path clip-path=\"url(#p0cbb38c517)\" d=\"M 258.238125 94.176 \r\nL 291.718125 94.176 \r\nL 291.718125 115.92 \r\nL 258.238125 115.92 \r\nL 258.238125 94.176 \r\n\" style=\"fill:#3b4cc0;\"/>\r\n    <path clip-path=\"url(#p0cbb38c517)\" d=\"M 291.718125 94.176 \r\nL 325.198125 94.176 \r\nL 325.198125 115.92 \r\nL 291.718125 115.92 \r\nL 291.718125 94.176 \r\n\" style=\"fill:#3b4cc0;\"/>\r\n    <path clip-path=\"url(#p0cbb38c517)\" d=\"M 325.198125 94.176 \r\nL 358.678125 94.176 \r\nL 358.678125 115.92 \r\nL 325.198125 115.92 \r\nL 325.198125 94.176 \r\n\" style=\"fill:#3b4cc0;\"/>\r\n    <path clip-path=\"url(#p0cbb38c517)\" d=\"M 23.878125 115.92 \r\nL 57.358125 115.92 \r\nL 57.358125 137.664 \r\nL 23.878125 137.664 \r\nL 23.878125 115.92 \r\n\" style=\"fill:#4c66d6;\"/>\r\n    <path clip-path=\"url(#p0cbb38c517)\" d=\"M 57.358125 115.92 \r\nL 90.838125 115.92 \r\nL 90.838125 137.664 \r\nL 57.358125 137.664 \r\nL 57.358125 115.92 \r\n\" style=\"fill:#3b4cc0;\"/>\r\n    <path clip-path=\"url(#p0cbb38c517)\" d=\"M 90.838125 115.92 \r\nL 124.318125 115.92 \r\nL 124.318125 137.664 \r\nL 90.838125 137.664 \r\nL 90.838125 115.92 \r\n\" style=\"fill:#3b4cc0;\"/>\r\n    <path clip-path=\"url(#p0cbb38c517)\" d=\"M 124.318125 115.92 \r\nL 157.798125 115.92 \r\nL 157.798125 137.664 \r\nL 124.318125 137.664 \r\nL 124.318125 115.92 \r\n\" style=\"fill:#3b4cc0;\"/>\r\n    <path clip-path=\"url(#p0cbb38c517)\" d=\"M 157.798125 115.92 \r\nL 191.278125 115.92 \r\nL 191.278125 137.664 \r\nL 157.798125 137.664 \r\nL 157.798125 115.92 \r\n\" style=\"fill:#3b4cc0;\"/>\r\n    <path clip-path=\"url(#p0cbb38c517)\" d=\"M 191.278125 115.92 \r\nL 224.758125 115.92 \r\nL 224.758125 137.664 \r\nL 191.278125 137.664 \r\nL 191.278125 115.92 \r\n\" style=\"fill:#3b4cc0;\"/>\r\n    <path clip-path=\"url(#p0cbb38c517)\" d=\"M 224.758125 115.92 \r\nL 258.238125 115.92 \r\nL 258.238125 137.664 \r\nL 224.758125 137.664 \r\nL 224.758125 115.92 \r\n\" style=\"fill:#4c66d6;\"/>\r\n    <path clip-path=\"url(#p0cbb38c517)\" d=\"M 258.238125 115.92 \r\nL 291.718125 115.92 \r\nL 291.718125 137.664 \r\nL 258.238125 137.664 \r\nL 258.238125 115.92 \r\n\" style=\"fill:#3b4cc0;\"/>\r\n    <path clip-path=\"url(#p0cbb38c517)\" d=\"M 291.718125 115.92 \r\nL 325.198125 115.92 \r\nL 325.198125 137.664 \r\nL 291.718125 137.664 \r\nL 291.718125 115.92 \r\n\" style=\"fill:#3b4cc0;\"/>\r\n    <path clip-path=\"url(#p0cbb38c517)\" d=\"M 325.198125 115.92 \r\nL 358.678125 115.92 \r\nL 358.678125 137.664 \r\nL 325.198125 137.664 \r\nL 325.198125 115.92 \r\n\" style=\"fill:#3b4cc0;\"/>\r\n    <path clip-path=\"url(#p0cbb38c517)\" d=\"M 23.878125 137.664 \r\nL 57.358125 137.664 \r\nL 57.358125 159.408 \r\nL 23.878125 159.408 \r\nL 23.878125 137.664 \r\n\" style=\"fill:#3f53c6;\"/>\r\n    <path clip-path=\"url(#p0cbb38c517)\" d=\"M 57.358125 137.664 \r\nL 90.838125 137.664 \r\nL 90.838125 159.408 \r\nL 57.358125 159.408 \r\nL 57.358125 137.664 \r\n\" style=\"fill:#3b4cc0;\"/>\r\n    <path clip-path=\"url(#p0cbb38c517)\" d=\"M 90.838125 137.664 \r\nL 124.318125 137.664 \r\nL 124.318125 159.408 \r\nL 90.838125 159.408 \r\nL 90.838125 137.664 \r\n\" style=\"fill:#3b4cc0;\"/>\r\n    <path clip-path=\"url(#p0cbb38c517)\" d=\"M 124.318125 137.664 \r\nL 157.798125 137.664 \r\nL 157.798125 159.408 \r\nL 124.318125 159.408 \r\nL 124.318125 137.664 \r\n\" style=\"fill:#3b4cc0;\"/>\r\n    <path clip-path=\"url(#p0cbb38c517)\" d=\"M 157.798125 137.664 \r\nL 191.278125 137.664 \r\nL 191.278125 159.408 \r\nL 157.798125 159.408 \r\nL 157.798125 137.664 \r\n\" style=\"fill:#3b4cc0;\"/>\r\n    <path clip-path=\"url(#p0cbb38c517)\" d=\"M 191.278125 137.664 \r\nL 224.758125 137.664 \r\nL 224.758125 159.408 \r\nL 191.278125 159.408 \r\nL 191.278125 137.664 \r\n\" style=\"fill:#3b4cc0;\"/>\r\n    <path clip-path=\"url(#p0cbb38c517)\" d=\"M 224.758125 137.664 \r\nL 258.238125 137.664 \r\nL 258.238125 159.408 \r\nL 224.758125 159.408 \r\nL 224.758125 137.664 \r\n\" style=\"fill:#b40426;\"/>\r\n    <path clip-path=\"url(#p0cbb38c517)\" d=\"M 258.238125 137.664 \r\nL 291.718125 137.664 \r\nL 291.718125 159.408 \r\nL 258.238125 159.408 \r\nL 258.238125 137.664 \r\n\" style=\"fill:#3b4cc0;\"/>\r\n    <path clip-path=\"url(#p0cbb38c517)\" d=\"M 291.718125 137.664 \r\nL 325.198125 137.664 \r\nL 325.198125 159.408 \r\nL 291.718125 159.408 \r\nL 291.718125 137.664 \r\n\" style=\"fill:#3c4ec2;\"/>\r\n    <path clip-path=\"url(#p0cbb38c517)\" d=\"M 325.198125 137.664 \r\nL 358.678125 137.664 \r\nL 358.678125 159.408 \r\nL 325.198125 159.408 \r\nL 325.198125 137.664 \r\n\" style=\"fill:#3b4cc0;\"/>\r\n    <path clip-path=\"url(#p0cbb38c517)\" d=\"M 23.878125 159.408 \r\nL 57.358125 159.408 \r\nL 57.358125 181.152 \r\nL 23.878125 181.152 \r\nL 23.878125 159.408 \r\n\" style=\"fill:#4055c8;\"/>\r\n    <path clip-path=\"url(#p0cbb38c517)\" d=\"M 57.358125 159.408 \r\nL 90.838125 159.408 \r\nL 90.838125 181.152 \r\nL 57.358125 181.152 \r\nL 57.358125 159.408 \r\n\" style=\"fill:#3b4cc0;\"/>\r\n    <path clip-path=\"url(#p0cbb38c517)\" d=\"M 90.838125 159.408 \r\nL 124.318125 159.408 \r\nL 124.318125 181.152 \r\nL 90.838125 181.152 \r\nL 90.838125 159.408 \r\n\" style=\"fill:#3b4cc0;\"/>\r\n    <path clip-path=\"url(#p0cbb38c517)\" d=\"M 124.318125 159.408 \r\nL 157.798125 159.408 \r\nL 157.798125 181.152 \r\nL 124.318125 181.152 \r\nL 124.318125 159.408 \r\n\" style=\"fill:#3b4cc0;\"/>\r\n    <path clip-path=\"url(#p0cbb38c517)\" d=\"M 157.798125 159.408 \r\nL 191.278125 159.408 \r\nL 191.278125 181.152 \r\nL 157.798125 181.152 \r\nL 157.798125 159.408 \r\n\" style=\"fill:#3b4cc0;\"/>\r\n    <path clip-path=\"url(#p0cbb38c517)\" d=\"M 191.278125 159.408 \r\nL 224.758125 159.408 \r\nL 224.758125 181.152 \r\nL 191.278125 181.152 \r\nL 191.278125 159.408 \r\n\" style=\"fill:#3b4cc0;\"/>\r\n    <path clip-path=\"url(#p0cbb38c517)\" d=\"M 224.758125 159.408 \r\nL 258.238125 159.408 \r\nL 258.238125 181.152 \r\nL 224.758125 181.152 \r\nL 224.758125 159.408 \r\n\" style=\"fill:#445acc;\"/>\r\n    <path clip-path=\"url(#p0cbb38c517)\" d=\"M 258.238125 159.408 \r\nL 291.718125 159.408 \r\nL 291.718125 181.152 \r\nL 258.238125 181.152 \r\nL 258.238125 159.408 \r\n\" style=\"fill:#4055c8;\"/>\r\n    <path clip-path=\"url(#p0cbb38c517)\" d=\"M 291.718125 159.408 \r\nL 325.198125 159.408 \r\nL 325.198125 181.152 \r\nL 291.718125 181.152 \r\nL 291.718125 159.408 \r\n\" style=\"fill:#3b4cc0;\"/>\r\n    <path clip-path=\"url(#p0cbb38c517)\" d=\"M 325.198125 159.408 \r\nL 358.678125 159.408 \r\nL 358.678125 181.152 \r\nL 325.198125 181.152 \r\nL 325.198125 159.408 \r\n\" style=\"fill:#3b4cc0;\"/>\r\n    <path clip-path=\"url(#p0cbb38c517)\" d=\"M 23.878125 181.152 \r\nL 57.358125 181.152 \r\nL 57.358125 202.896 \r\nL 23.878125 202.896 \r\nL 23.878125 181.152 \r\n\" style=\"fill:#445acc;\"/>\r\n    <path clip-path=\"url(#p0cbb38c517)\" d=\"M 57.358125 181.152 \r\nL 90.838125 181.152 \r\nL 90.838125 202.896 \r\nL 57.358125 202.896 \r\nL 57.358125 181.152 \r\n\" style=\"fill:#3b4cc0;\"/>\r\n    <path clip-path=\"url(#p0cbb38c517)\" d=\"M 90.838125 181.152 \r\nL 124.318125 181.152 \r\nL 124.318125 202.896 \r\nL 90.838125 202.896 \r\nL 90.838125 181.152 \r\n\" style=\"fill:#3b4cc0;\"/>\r\n    <path clip-path=\"url(#p0cbb38c517)\" d=\"M 124.318125 181.152 \r\nL 157.798125 181.152 \r\nL 157.798125 202.896 \r\nL 124.318125 202.896 \r\nL 124.318125 181.152 \r\n\" style=\"fill:#3b4cc0;\"/>\r\n    <path clip-path=\"url(#p0cbb38c517)\" d=\"M 157.798125 181.152 \r\nL 191.278125 181.152 \r\nL 191.278125 202.896 \r\nL 157.798125 202.896 \r\nL 157.798125 181.152 \r\n\" style=\"fill:#3b4cc0;\"/>\r\n    <path clip-path=\"url(#p0cbb38c517)\" d=\"M 191.278125 181.152 \r\nL 224.758125 181.152 \r\nL 224.758125 202.896 \r\nL 191.278125 202.896 \r\nL 191.278125 181.152 \r\n\" style=\"fill:#3b4cc0;\"/>\r\n    <path clip-path=\"url(#p0cbb38c517)\" d=\"M 224.758125 181.152 \r\nL 258.238125 181.152 \r\nL 258.238125 202.896 \r\nL 224.758125 202.896 \r\nL 224.758125 181.152 \r\n\" style=\"fill:#3b4cc0;\"/>\r\n    <path clip-path=\"url(#p0cbb38c517)\" d=\"M 258.238125 181.152 \r\nL 291.718125 181.152 \r\nL 291.718125 202.896 \r\nL 258.238125 202.896 \r\nL 258.238125 181.152 \r\n\" style=\"fill:#3b4cc0;\"/>\r\n    <path clip-path=\"url(#p0cbb38c517)\" d=\"M 291.718125 181.152 \r\nL 325.198125 181.152 \r\nL 325.198125 202.896 \r\nL 291.718125 202.896 \r\nL 291.718125 181.152 \r\n\" style=\"fill:#93b5fe;\"/>\r\n    <path clip-path=\"url(#p0cbb38c517)\" d=\"M 325.198125 181.152 \r\nL 358.678125 181.152 \r\nL 358.678125 202.896 \r\nL 325.198125 202.896 \r\nL 325.198125 181.152 \r\n\" style=\"fill:#455cce;\"/>\r\n    <path clip-path=\"url(#p0cbb38c517)\" d=\"M 23.878125 202.896 \r\nL 57.358125 202.896 \r\nL 57.358125 224.64 \r\nL 23.878125 224.64 \r\nL 23.878125 202.896 \r\n\" style=\"fill:#3b4cc0;\"/>\r\n    <path clip-path=\"url(#p0cbb38c517)\" d=\"M 57.358125 202.896 \r\nL 90.838125 202.896 \r\nL 90.838125 224.64 \r\nL 57.358125 224.64 \r\nL 57.358125 202.896 \r\n\" style=\"fill:#3b4cc0;\"/>\r\n    <path clip-path=\"url(#p0cbb38c517)\" d=\"M 90.838125 202.896 \r\nL 124.318125 202.896 \r\nL 124.318125 224.64 \r\nL 90.838125 224.64 \r\nL 90.838125 202.896 \r\n\" style=\"fill:#3b4cc0;\"/>\r\n    <path clip-path=\"url(#p0cbb38c517)\" d=\"M 124.318125 202.896 \r\nL 157.798125 202.896 \r\nL 157.798125 224.64 \r\nL 124.318125 224.64 \r\nL 124.318125 202.896 \r\n\" style=\"fill:#3b4cc0;\"/>\r\n    <path clip-path=\"url(#p0cbb38c517)\" d=\"M 157.798125 202.896 \r\nL 191.278125 202.896 \r\nL 191.278125 224.64 \r\nL 157.798125 224.64 \r\nL 157.798125 202.896 \r\n\" style=\"fill:#3b4cc0;\"/>\r\n    <path clip-path=\"url(#p0cbb38c517)\" d=\"M 191.278125 202.896 \r\nL 224.758125 202.896 \r\nL 224.758125 224.64 \r\nL 191.278125 224.64 \r\nL 191.278125 202.896 \r\n\" style=\"fill:#3b4cc0;\"/>\r\n    <path clip-path=\"url(#p0cbb38c517)\" d=\"M 224.758125 202.896 \r\nL 258.238125 202.896 \r\nL 258.238125 224.64 \r\nL 224.758125 224.64 \r\nL 224.758125 202.896 \r\n\" style=\"fill:#3b4cc0;\"/>\r\n    <path clip-path=\"url(#p0cbb38c517)\" d=\"M 258.238125 202.896 \r\nL 291.718125 202.896 \r\nL 291.718125 224.64 \r\nL 258.238125 224.64 \r\nL 258.238125 202.896 \r\n\" style=\"fill:#3b4cc0;\"/>\r\n    <path clip-path=\"url(#p0cbb38c517)\" d=\"M 291.718125 202.896 \r\nL 325.198125 202.896 \r\nL 325.198125 224.64 \r\nL 291.718125 224.64 \r\nL 291.718125 202.896 \r\n\" style=\"fill:#3c4ec2;\"/>\r\n    <path clip-path=\"url(#p0cbb38c517)\" d=\"M 325.198125 202.896 \r\nL 358.678125 202.896 \r\nL 358.678125 224.64 \r\nL 325.198125 224.64 \r\nL 325.198125 202.896 \r\n\" style=\"fill:#f0cdbb;\"/>\r\n   </g>\r\n   <g id=\"matplotlib.axis_1\">\r\n    <g id=\"xtick_1\">\r\n     <g id=\"line2d_1\">\r\n      <defs>\r\n       <path d=\"M 0 0 \r\nL 0 3.5 \r\n\" id=\"mcfe5e1562a\" style=\"stroke:#000000;stroke-width:0.8;\"/>\r\n      </defs>\r\n      <g>\r\n       <use style=\"stroke:#000000;stroke-width:0.8;\" x=\"40.618125\" xlink:href=\"#mcfe5e1562a\" y=\"224.64\"/>\r\n      </g>\r\n     </g>\r\n     <g id=\"text_1\">\r\n      <!-- 0 -->\r\n      <g transform=\"translate(37.436875 239.238437)scale(0.1 -0.1)\">\r\n       <defs>\r\n        <path d=\"M 31.78125 66.40625 \r\nQ 24.171875 66.40625 20.328125 58.90625 \r\nQ 16.5 51.421875 16.5 36.375 \r\nQ 16.5 21.390625 20.328125 13.890625 \r\nQ 24.171875 6.390625 31.78125 6.390625 \r\nQ 39.453125 6.390625 43.28125 13.890625 \r\nQ 47.125 21.390625 47.125 36.375 \r\nQ 47.125 51.421875 43.28125 58.90625 \r\nQ 39.453125 66.40625 31.78125 66.40625 \r\nz\r\nM 31.78125 74.21875 \r\nQ 44.046875 74.21875 50.515625 64.515625 \r\nQ 56.984375 54.828125 56.984375 36.375 \r\nQ 56.984375 17.96875 50.515625 8.265625 \r\nQ 44.046875 -1.421875 31.78125 -1.421875 \r\nQ 19.53125 -1.421875 13.0625 8.265625 \r\nQ 6.59375 17.96875 6.59375 36.375 \r\nQ 6.59375 54.828125 13.0625 64.515625 \r\nQ 19.53125 74.21875 31.78125 74.21875 \r\nz\r\n\" id=\"DejaVuSans-48\"/>\r\n       </defs>\r\n       <use xlink:href=\"#DejaVuSans-48\"/>\r\n      </g>\r\n     </g>\r\n    </g>\r\n    <g id=\"xtick_2\">\r\n     <g id=\"line2d_2\">\r\n      <g>\r\n       <use style=\"stroke:#000000;stroke-width:0.8;\" x=\"74.098125\" xlink:href=\"#mcfe5e1562a\" y=\"224.64\"/>\r\n      </g>\r\n     </g>\r\n     <g id=\"text_2\">\r\n      <!-- 1 -->\r\n      <g transform=\"translate(70.916875 239.238437)scale(0.1 -0.1)\">\r\n       <defs>\r\n        <path d=\"M 12.40625 8.296875 \r\nL 28.515625 8.296875 \r\nL 28.515625 63.921875 \r\nL 10.984375 60.40625 \r\nL 10.984375 69.390625 \r\nL 28.421875 72.90625 \r\nL 38.28125 72.90625 \r\nL 38.28125 8.296875 \r\nL 54.390625 8.296875 \r\nL 54.390625 0 \r\nL 12.40625 0 \r\nz\r\n\" id=\"DejaVuSans-49\"/>\r\n       </defs>\r\n       <use xlink:href=\"#DejaVuSans-49\"/>\r\n      </g>\r\n     </g>\r\n    </g>\r\n    <g id=\"xtick_3\">\r\n     <g id=\"line2d_3\">\r\n      <g>\r\n       <use style=\"stroke:#000000;stroke-width:0.8;\" x=\"107.578125\" xlink:href=\"#mcfe5e1562a\" y=\"224.64\"/>\r\n      </g>\r\n     </g>\r\n     <g id=\"text_3\">\r\n      <!-- 2 -->\r\n      <g transform=\"translate(104.396875 239.238437)scale(0.1 -0.1)\">\r\n       <defs>\r\n        <path d=\"M 19.1875 8.296875 \r\nL 53.609375 8.296875 \r\nL 53.609375 0 \r\nL 7.328125 0 \r\nL 7.328125 8.296875 \r\nQ 12.9375 14.109375 22.625 23.890625 \r\nQ 32.328125 33.6875 34.8125 36.53125 \r\nQ 39.546875 41.84375 41.421875 45.53125 \r\nQ 43.3125 49.21875 43.3125 52.78125 \r\nQ 43.3125 58.59375 39.234375 62.25 \r\nQ 35.15625 65.921875 28.609375 65.921875 \r\nQ 23.96875 65.921875 18.8125 64.3125 \r\nQ 13.671875 62.703125 7.8125 59.421875 \r\nL 7.8125 69.390625 \r\nQ 13.765625 71.78125 18.9375 73 \r\nQ 24.125 74.21875 28.421875 74.21875 \r\nQ 39.75 74.21875 46.484375 68.546875 \r\nQ 53.21875 62.890625 53.21875 53.421875 \r\nQ 53.21875 48.921875 51.53125 44.890625 \r\nQ 49.859375 40.875 45.40625 35.40625 \r\nQ 44.1875 33.984375 37.640625 27.21875 \r\nQ 31.109375 20.453125 19.1875 8.296875 \r\nz\r\n\" id=\"DejaVuSans-50\"/>\r\n       </defs>\r\n       <use xlink:href=\"#DejaVuSans-50\"/>\r\n      </g>\r\n     </g>\r\n    </g>\r\n    <g id=\"xtick_4\">\r\n     <g id=\"line2d_4\">\r\n      <g>\r\n       <use style=\"stroke:#000000;stroke-width:0.8;\" x=\"141.058125\" xlink:href=\"#mcfe5e1562a\" y=\"224.64\"/>\r\n      </g>\r\n     </g>\r\n     <g id=\"text_4\">\r\n      <!-- 3 -->\r\n      <g transform=\"translate(137.876875 239.238437)scale(0.1 -0.1)\">\r\n       <defs>\r\n        <path d=\"M 40.578125 39.3125 \r\nQ 47.65625 37.796875 51.625 33 \r\nQ 55.609375 28.21875 55.609375 21.1875 \r\nQ 55.609375 10.40625 48.1875 4.484375 \r\nQ 40.765625 -1.421875 27.09375 -1.421875 \r\nQ 22.515625 -1.421875 17.65625 -0.515625 \r\nQ 12.796875 0.390625 7.625 2.203125 \r\nL 7.625 11.71875 \r\nQ 11.71875 9.328125 16.59375 8.109375 \r\nQ 21.484375 6.890625 26.8125 6.890625 \r\nQ 36.078125 6.890625 40.9375 10.546875 \r\nQ 45.796875 14.203125 45.796875 21.1875 \r\nQ 45.796875 27.640625 41.28125 31.265625 \r\nQ 36.765625 34.90625 28.71875 34.90625 \r\nL 20.21875 34.90625 \r\nL 20.21875 43.015625 \r\nL 29.109375 43.015625 \r\nQ 36.375 43.015625 40.234375 45.921875 \r\nQ 44.09375 48.828125 44.09375 54.296875 \r\nQ 44.09375 59.90625 40.109375 62.90625 \r\nQ 36.140625 65.921875 28.71875 65.921875 \r\nQ 24.65625 65.921875 20.015625 65.03125 \r\nQ 15.375 64.15625 9.8125 62.3125 \r\nL 9.8125 71.09375 \r\nQ 15.4375 72.65625 20.34375 73.4375 \r\nQ 25.25 74.21875 29.59375 74.21875 \r\nQ 40.828125 74.21875 47.359375 69.109375 \r\nQ 53.90625 64.015625 53.90625 55.328125 \r\nQ 53.90625 49.265625 50.4375 45.09375 \r\nQ 46.96875 40.921875 40.578125 39.3125 \r\nz\r\n\" id=\"DejaVuSans-51\"/>\r\n       </defs>\r\n       <use xlink:href=\"#DejaVuSans-51\"/>\r\n      </g>\r\n     </g>\r\n    </g>\r\n    <g id=\"xtick_5\">\r\n     <g id=\"line2d_5\">\r\n      <g>\r\n       <use style=\"stroke:#000000;stroke-width:0.8;\" x=\"174.538125\" xlink:href=\"#mcfe5e1562a\" y=\"224.64\"/>\r\n      </g>\r\n     </g>\r\n     <g id=\"text_5\">\r\n      <!-- 4 -->\r\n      <g transform=\"translate(171.356875 239.238437)scale(0.1 -0.1)\">\r\n       <defs>\r\n        <path d=\"M 37.796875 64.3125 \r\nL 12.890625 25.390625 \r\nL 37.796875 25.390625 \r\nz\r\nM 35.203125 72.90625 \r\nL 47.609375 72.90625 \r\nL 47.609375 25.390625 \r\nL 58.015625 25.390625 \r\nL 58.015625 17.1875 \r\nL 47.609375 17.1875 \r\nL 47.609375 0 \r\nL 37.796875 0 \r\nL 37.796875 17.1875 \r\nL 4.890625 17.1875 \r\nL 4.890625 26.703125 \r\nz\r\n\" id=\"DejaVuSans-52\"/>\r\n       </defs>\r\n       <use xlink:href=\"#DejaVuSans-52\"/>\r\n      </g>\r\n     </g>\r\n    </g>\r\n    <g id=\"xtick_6\">\r\n     <g id=\"line2d_6\">\r\n      <g>\r\n       <use style=\"stroke:#000000;stroke-width:0.8;\" x=\"208.018125\" xlink:href=\"#mcfe5e1562a\" y=\"224.64\"/>\r\n      </g>\r\n     </g>\r\n     <g id=\"text_6\">\r\n      <!-- 5 -->\r\n      <g transform=\"translate(204.836875 239.238437)scale(0.1 -0.1)\">\r\n       <defs>\r\n        <path d=\"M 10.796875 72.90625 \r\nL 49.515625 72.90625 \r\nL 49.515625 64.59375 \r\nL 19.828125 64.59375 \r\nL 19.828125 46.734375 \r\nQ 21.96875 47.46875 24.109375 47.828125 \r\nQ 26.265625 48.1875 28.421875 48.1875 \r\nQ 40.625 48.1875 47.75 41.5 \r\nQ 54.890625 34.8125 54.890625 23.390625 \r\nQ 54.890625 11.625 47.5625 5.09375 \r\nQ 40.234375 -1.421875 26.90625 -1.421875 \r\nQ 22.3125 -1.421875 17.546875 -0.640625 \r\nQ 12.796875 0.140625 7.71875 1.703125 \r\nL 7.71875 11.625 \r\nQ 12.109375 9.234375 16.796875 8.0625 \r\nQ 21.484375 6.890625 26.703125 6.890625 \r\nQ 35.15625 6.890625 40.078125 11.328125 \r\nQ 45.015625 15.765625 45.015625 23.390625 \r\nQ 45.015625 31 40.078125 35.4375 \r\nQ 35.15625 39.890625 26.703125 39.890625 \r\nQ 22.75 39.890625 18.8125 39.015625 \r\nQ 14.890625 38.140625 10.796875 36.28125 \r\nz\r\n\" id=\"DejaVuSans-53\"/>\r\n       </defs>\r\n       <use xlink:href=\"#DejaVuSans-53\"/>\r\n      </g>\r\n     </g>\r\n    </g>\r\n    <g id=\"xtick_7\">\r\n     <g id=\"line2d_7\">\r\n      <g>\r\n       <use style=\"stroke:#000000;stroke-width:0.8;\" x=\"241.498125\" xlink:href=\"#mcfe5e1562a\" y=\"224.64\"/>\r\n      </g>\r\n     </g>\r\n     <g id=\"text_7\">\r\n      <!-- 6 -->\r\n      <g transform=\"translate(238.316875 239.238437)scale(0.1 -0.1)\">\r\n       <defs>\r\n        <path d=\"M 33.015625 40.375 \r\nQ 26.375 40.375 22.484375 35.828125 \r\nQ 18.609375 31.296875 18.609375 23.390625 \r\nQ 18.609375 15.53125 22.484375 10.953125 \r\nQ 26.375 6.390625 33.015625 6.390625 \r\nQ 39.65625 6.390625 43.53125 10.953125 \r\nQ 47.40625 15.53125 47.40625 23.390625 \r\nQ 47.40625 31.296875 43.53125 35.828125 \r\nQ 39.65625 40.375 33.015625 40.375 \r\nz\r\nM 52.59375 71.296875 \r\nL 52.59375 62.3125 \r\nQ 48.875 64.0625 45.09375 64.984375 \r\nQ 41.3125 65.921875 37.59375 65.921875 \r\nQ 27.828125 65.921875 22.671875 59.328125 \r\nQ 17.53125 52.734375 16.796875 39.40625 \r\nQ 19.671875 43.65625 24.015625 45.921875 \r\nQ 28.375 48.1875 33.59375 48.1875 \r\nQ 44.578125 48.1875 50.953125 41.515625 \r\nQ 57.328125 34.859375 57.328125 23.390625 \r\nQ 57.328125 12.15625 50.6875 5.359375 \r\nQ 44.046875 -1.421875 33.015625 -1.421875 \r\nQ 20.359375 -1.421875 13.671875 8.265625 \r\nQ 6.984375 17.96875 6.984375 36.375 \r\nQ 6.984375 53.65625 15.1875 63.9375 \r\nQ 23.390625 74.21875 37.203125 74.21875 \r\nQ 40.921875 74.21875 44.703125 73.484375 \r\nQ 48.484375 72.75 52.59375 71.296875 \r\nz\r\n\" id=\"DejaVuSans-54\"/>\r\n       </defs>\r\n       <use xlink:href=\"#DejaVuSans-54\"/>\r\n      </g>\r\n     </g>\r\n    </g>\r\n    <g id=\"xtick_8\">\r\n     <g id=\"line2d_8\">\r\n      <g>\r\n       <use style=\"stroke:#000000;stroke-width:0.8;\" x=\"274.978125\" xlink:href=\"#mcfe5e1562a\" y=\"224.64\"/>\r\n      </g>\r\n     </g>\r\n     <g id=\"text_8\">\r\n      <!-- 7 -->\r\n      <g transform=\"translate(271.796875 239.238437)scale(0.1 -0.1)\">\r\n       <defs>\r\n        <path d=\"M 8.203125 72.90625 \r\nL 55.078125 72.90625 \r\nL 55.078125 68.703125 \r\nL 28.609375 0 \r\nL 18.3125 0 \r\nL 43.21875 64.59375 \r\nL 8.203125 64.59375 \r\nz\r\n\" id=\"DejaVuSans-55\"/>\r\n       </defs>\r\n       <use xlink:href=\"#DejaVuSans-55\"/>\r\n      </g>\r\n     </g>\r\n    </g>\r\n    <g id=\"xtick_9\">\r\n     <g id=\"line2d_9\">\r\n      <g>\r\n       <use style=\"stroke:#000000;stroke-width:0.8;\" x=\"308.458125\" xlink:href=\"#mcfe5e1562a\" y=\"224.64\"/>\r\n      </g>\r\n     </g>\r\n     <g id=\"text_9\">\r\n      <!-- 8 -->\r\n      <g transform=\"translate(305.276875 239.238437)scale(0.1 -0.1)\">\r\n       <defs>\r\n        <path d=\"M 31.78125 34.625 \r\nQ 24.75 34.625 20.71875 30.859375 \r\nQ 16.703125 27.09375 16.703125 20.515625 \r\nQ 16.703125 13.921875 20.71875 10.15625 \r\nQ 24.75 6.390625 31.78125 6.390625 \r\nQ 38.8125 6.390625 42.859375 10.171875 \r\nQ 46.921875 13.96875 46.921875 20.515625 \r\nQ 46.921875 27.09375 42.890625 30.859375 \r\nQ 38.875 34.625 31.78125 34.625 \r\nz\r\nM 21.921875 38.8125 \r\nQ 15.578125 40.375 12.03125 44.71875 \r\nQ 8.5 49.078125 8.5 55.328125 \r\nQ 8.5 64.0625 14.71875 69.140625 \r\nQ 20.953125 74.21875 31.78125 74.21875 \r\nQ 42.671875 74.21875 48.875 69.140625 \r\nQ 55.078125 64.0625 55.078125 55.328125 \r\nQ 55.078125 49.078125 51.53125 44.71875 \r\nQ 48 40.375 41.703125 38.8125 \r\nQ 48.828125 37.15625 52.796875 32.3125 \r\nQ 56.78125 27.484375 56.78125 20.515625 \r\nQ 56.78125 9.90625 50.3125 4.234375 \r\nQ 43.84375 -1.421875 31.78125 -1.421875 \r\nQ 19.734375 -1.421875 13.25 4.234375 \r\nQ 6.78125 9.90625 6.78125 20.515625 \r\nQ 6.78125 27.484375 10.78125 32.3125 \r\nQ 14.796875 37.15625 21.921875 38.8125 \r\nz\r\nM 18.3125 54.390625 \r\nQ 18.3125 48.734375 21.84375 45.5625 \r\nQ 25.390625 42.390625 31.78125 42.390625 \r\nQ 38.140625 42.390625 41.71875 45.5625 \r\nQ 45.3125 48.734375 45.3125 54.390625 \r\nQ 45.3125 60.0625 41.71875 63.234375 \r\nQ 38.140625 66.40625 31.78125 66.40625 \r\nQ 25.390625 66.40625 21.84375 63.234375 \r\nQ 18.3125 60.0625 18.3125 54.390625 \r\nz\r\n\" id=\"DejaVuSans-56\"/>\r\n       </defs>\r\n       <use xlink:href=\"#DejaVuSans-56\"/>\r\n      </g>\r\n     </g>\r\n    </g>\r\n    <g id=\"xtick_10\">\r\n     <g id=\"line2d_10\">\r\n      <g>\r\n       <use style=\"stroke:#000000;stroke-width:0.8;\" x=\"341.938125\" xlink:href=\"#mcfe5e1562a\" y=\"224.64\"/>\r\n      </g>\r\n     </g>\r\n     <g id=\"text_10\">\r\n      <!-- 9 -->\r\n      <g transform=\"translate(338.756875 239.238437)scale(0.1 -0.1)\">\r\n       <defs>\r\n        <path d=\"M 10.984375 1.515625 \r\nL 10.984375 10.5 \r\nQ 14.703125 8.734375 18.5 7.8125 \r\nQ 22.3125 6.890625 25.984375 6.890625 \r\nQ 35.75 6.890625 40.890625 13.453125 \r\nQ 46.046875 20.015625 46.78125 33.40625 \r\nQ 43.953125 29.203125 39.59375 26.953125 \r\nQ 35.25 24.703125 29.984375 24.703125 \r\nQ 19.046875 24.703125 12.671875 31.3125 \r\nQ 6.296875 37.9375 6.296875 49.421875 \r\nQ 6.296875 60.640625 12.9375 67.421875 \r\nQ 19.578125 74.21875 30.609375 74.21875 \r\nQ 43.265625 74.21875 49.921875 64.515625 \r\nQ 56.59375 54.828125 56.59375 36.375 \r\nQ 56.59375 19.140625 48.40625 8.859375 \r\nQ 40.234375 -1.421875 26.421875 -1.421875 \r\nQ 22.703125 -1.421875 18.890625 -0.6875 \r\nQ 15.09375 0.046875 10.984375 1.515625 \r\nz\r\nM 30.609375 32.421875 \r\nQ 37.25 32.421875 41.125 36.953125 \r\nQ 45.015625 41.5 45.015625 49.421875 \r\nQ 45.015625 57.28125 41.125 61.84375 \r\nQ 37.25 66.40625 30.609375 66.40625 \r\nQ 23.96875 66.40625 20.09375 61.84375 \r\nQ 16.21875 57.28125 16.21875 49.421875 \r\nQ 16.21875 41.5 20.09375 36.953125 \r\nQ 23.96875 32.421875 30.609375 32.421875 \r\nz\r\n\" id=\"DejaVuSans-57\"/>\r\n       </defs>\r\n       <use xlink:href=\"#DejaVuSans-57\"/>\r\n      </g>\r\n     </g>\r\n    </g>\r\n   </g>\r\n   <g id=\"matplotlib.axis_2\">\r\n    <g id=\"ytick_1\">\r\n     <g id=\"line2d_11\">\r\n      <defs>\r\n       <path d=\"M 0 0 \r\nL -3.5 0 \r\n\" id=\"m73180e905b\" style=\"stroke:#000000;stroke-width:0.8;\"/>\r\n      </defs>\r\n      <g>\r\n       <use style=\"stroke:#000000;stroke-width:0.8;\" x=\"23.878125\" xlink:href=\"#m73180e905b\" y=\"18.072\"/>\r\n      </g>\r\n     </g>\r\n     <g id=\"text_11\">\r\n      <!-- 0 -->\r\n      <g transform=\"translate(14.798438 20.635281)rotate(-90)scale(0.1 -0.1)\">\r\n       <use xlink:href=\"#DejaVuSans-48\"/>\r\n      </g>\r\n     </g>\r\n    </g>\r\n    <g id=\"ytick_2\">\r\n     <g id=\"line2d_12\">\r\n      <g>\r\n       <use style=\"stroke:#000000;stroke-width:0.8;\" x=\"23.878125\" xlink:href=\"#m73180e905b\" y=\"39.816\"/>\r\n      </g>\r\n     </g>\r\n     <g id=\"text_12\">\r\n      <!-- 1 -->\r\n      <g transform=\"translate(14.798438 42.379281)rotate(-90)scale(0.1 -0.1)\">\r\n       <use xlink:href=\"#DejaVuSans-49\"/>\r\n      </g>\r\n     </g>\r\n    </g>\r\n    <g id=\"ytick_3\">\r\n     <g id=\"line2d_13\">\r\n      <g>\r\n       <use style=\"stroke:#000000;stroke-width:0.8;\" x=\"23.878125\" xlink:href=\"#m73180e905b\" y=\"61.56\"/>\r\n      </g>\r\n     </g>\r\n     <g id=\"text_13\">\r\n      <!-- 2 -->\r\n      <g transform=\"translate(14.798438 64.123281)rotate(-90)scale(0.1 -0.1)\">\r\n       <use xlink:href=\"#DejaVuSans-50\"/>\r\n      </g>\r\n     </g>\r\n    </g>\r\n    <g id=\"ytick_4\">\r\n     <g id=\"line2d_14\">\r\n      <g>\r\n       <use style=\"stroke:#000000;stroke-width:0.8;\" x=\"23.878125\" xlink:href=\"#m73180e905b\" y=\"83.304\"/>\r\n      </g>\r\n     </g>\r\n     <g id=\"text_14\">\r\n      <!-- 3 -->\r\n      <g transform=\"translate(14.798438 85.867281)rotate(-90)scale(0.1 -0.1)\">\r\n       <use xlink:href=\"#DejaVuSans-51\"/>\r\n      </g>\r\n     </g>\r\n    </g>\r\n    <g id=\"ytick_5\">\r\n     <g id=\"line2d_15\">\r\n      <g>\r\n       <use style=\"stroke:#000000;stroke-width:0.8;\" x=\"23.878125\" xlink:href=\"#m73180e905b\" y=\"105.048\"/>\r\n      </g>\r\n     </g>\r\n     <g id=\"text_15\">\r\n      <!-- 4 -->\r\n      <g transform=\"translate(14.798438 107.611281)rotate(-90)scale(0.1 -0.1)\">\r\n       <use xlink:href=\"#DejaVuSans-52\"/>\r\n      </g>\r\n     </g>\r\n    </g>\r\n    <g id=\"ytick_6\">\r\n     <g id=\"line2d_16\">\r\n      <g>\r\n       <use style=\"stroke:#000000;stroke-width:0.8;\" x=\"23.878125\" xlink:href=\"#m73180e905b\" y=\"126.792\"/>\r\n      </g>\r\n     </g>\r\n     <g id=\"text_16\">\r\n      <!-- 5 -->\r\n      <g transform=\"translate(14.798438 129.355281)rotate(-90)scale(0.1 -0.1)\">\r\n       <use xlink:href=\"#DejaVuSans-53\"/>\r\n      </g>\r\n     </g>\r\n    </g>\r\n    <g id=\"ytick_7\">\r\n     <g id=\"line2d_17\">\r\n      <g>\r\n       <use style=\"stroke:#000000;stroke-width:0.8;\" x=\"23.878125\" xlink:href=\"#m73180e905b\" y=\"148.536\"/>\r\n      </g>\r\n     </g>\r\n     <g id=\"text_17\">\r\n      <!-- 6 -->\r\n      <g transform=\"translate(14.798438 151.099281)rotate(-90)scale(0.1 -0.1)\">\r\n       <use xlink:href=\"#DejaVuSans-54\"/>\r\n      </g>\r\n     </g>\r\n    </g>\r\n    <g id=\"ytick_8\">\r\n     <g id=\"line2d_18\">\r\n      <g>\r\n       <use style=\"stroke:#000000;stroke-width:0.8;\" x=\"23.878125\" xlink:href=\"#m73180e905b\" y=\"170.28\"/>\r\n      </g>\r\n     </g>\r\n     <g id=\"text_18\">\r\n      <!-- 7 -->\r\n      <g transform=\"translate(14.798438 172.843281)rotate(-90)scale(0.1 -0.1)\">\r\n       <use xlink:href=\"#DejaVuSans-55\"/>\r\n      </g>\r\n     </g>\r\n    </g>\r\n    <g id=\"ytick_9\">\r\n     <g id=\"line2d_19\">\r\n      <g>\r\n       <use style=\"stroke:#000000;stroke-width:0.8;\" x=\"23.878125\" xlink:href=\"#m73180e905b\" y=\"192.024\"/>\r\n      </g>\r\n     </g>\r\n     <g id=\"text_19\">\r\n      <!-- 8 -->\r\n      <g transform=\"translate(14.798438 194.587281)rotate(-90)scale(0.1 -0.1)\">\r\n       <use xlink:href=\"#DejaVuSans-56\"/>\r\n      </g>\r\n     </g>\r\n    </g>\r\n    <g id=\"ytick_10\">\r\n     <g id=\"line2d_20\">\r\n      <g>\r\n       <use style=\"stroke:#000000;stroke-width:0.8;\" x=\"23.878125\" xlink:href=\"#m73180e905b\" y=\"213.768\"/>\r\n      </g>\r\n     </g>\r\n     <g id=\"text_20\">\r\n      <!-- 9 -->\r\n      <g transform=\"translate(14.798438 216.331281)rotate(-90)scale(0.1 -0.1)\">\r\n       <use xlink:href=\"#DejaVuSans-57\"/>\r\n      </g>\r\n     </g>\r\n    </g>\r\n   </g>\r\n   <g id=\"text_21\">\r\n    <!-- 20 -->\r\n    <g style=\"fill:#ffffff;\" transform=\"translate(32.983125 21.38325)scale(0.12 -0.12)\">\r\n     <use xlink:href=\"#DejaVuSans-50\"/>\r\n     <use x=\"63.623047\" xlink:href=\"#DejaVuSans-48\"/>\r\n    </g>\r\n   </g>\r\n   <g id=\"text_22\">\r\n    <!-- 0 -->\r\n    <g style=\"fill:#ffffff;\" transform=\"translate(70.280625 21.38325)scale(0.12 -0.12)\">\r\n     <use xlink:href=\"#DejaVuSans-48\"/>\r\n    </g>\r\n   </g>\r\n   <g id=\"text_23\">\r\n    <!-- 0 -->\r\n    <g style=\"fill:#ffffff;\" transform=\"translate(103.760625 21.38325)scale(0.12 -0.12)\">\r\n     <use xlink:href=\"#DejaVuSans-48\"/>\r\n    </g>\r\n   </g>\r\n   <g id=\"text_24\">\r\n    <!-- 0 -->\r\n    <g style=\"fill:#ffffff;\" transform=\"translate(137.240625 21.38325)scale(0.12 -0.12)\">\r\n     <use xlink:href=\"#DejaVuSans-48\"/>\r\n    </g>\r\n   </g>\r\n   <g id=\"text_25\">\r\n    <!-- 0 -->\r\n    <g style=\"fill:#ffffff;\" transform=\"translate(170.720625 21.38325)scale(0.12 -0.12)\">\r\n     <use xlink:href=\"#DejaVuSans-48\"/>\r\n    </g>\r\n   </g>\r\n   <g id=\"text_26\">\r\n    <!-- 0 -->\r\n    <g style=\"fill:#ffffff;\" transform=\"translate(204.200625 21.38325)scale(0.12 -0.12)\">\r\n     <use xlink:href=\"#DejaVuSans-48\"/>\r\n    </g>\r\n   </g>\r\n   <g id=\"text_27\">\r\n    <!-- 0 -->\r\n    <g style=\"fill:#ffffff;\" transform=\"translate(237.680625 21.38325)scale(0.12 -0.12)\">\r\n     <use xlink:href=\"#DejaVuSans-48\"/>\r\n    </g>\r\n   </g>\r\n   <g id=\"text_28\">\r\n    <!-- 0 -->\r\n    <g style=\"fill:#ffffff;\" transform=\"translate(271.160625 21.38325)scale(0.12 -0.12)\">\r\n     <use xlink:href=\"#DejaVuSans-48\"/>\r\n    </g>\r\n   </g>\r\n   <g id=\"text_29\">\r\n    <!-- 0 -->\r\n    <g style=\"fill:#ffffff;\" transform=\"translate(304.640625 21.38325)scale(0.12 -0.12)\">\r\n     <use xlink:href=\"#DejaVuSans-48\"/>\r\n    </g>\r\n   </g>\r\n   <g id=\"text_30\">\r\n    <!-- 0 -->\r\n    <g style=\"fill:#ffffff;\" transform=\"translate(338.120625 21.38325)scale(0.12 -0.12)\">\r\n     <use xlink:href=\"#DejaVuSans-48\"/>\r\n    </g>\r\n   </g>\r\n   <g id=\"text_31\">\r\n    <!-- 21 -->\r\n    <g style=\"fill:#ffffff;\" transform=\"translate(32.983125 43.12725)scale(0.12 -0.12)\">\r\n     <use xlink:href=\"#DejaVuSans-50\"/>\r\n     <use x=\"63.623047\" xlink:href=\"#DejaVuSans-49\"/>\r\n    </g>\r\n   </g>\r\n   <g id=\"text_32\">\r\n    <!-- 2 -->\r\n    <g style=\"fill:#ffffff;\" transform=\"translate(70.280625 43.12725)scale(0.12 -0.12)\">\r\n     <use xlink:href=\"#DejaVuSans-50\"/>\r\n    </g>\r\n   </g>\r\n   <g id=\"text_33\">\r\n    <!-- 3 -->\r\n    <g style=\"fill:#ffffff;\" transform=\"translate(103.760625 43.12725)scale(0.12 -0.12)\">\r\n     <use xlink:href=\"#DejaVuSans-51\"/>\r\n    </g>\r\n   </g>\r\n   <g id=\"text_34\">\r\n    <!-- 0 -->\r\n    <g style=\"fill:#ffffff;\" transform=\"translate(137.240625 43.12725)scale(0.12 -0.12)\">\r\n     <use xlink:href=\"#DejaVuSans-48\"/>\r\n    </g>\r\n   </g>\r\n   <g id=\"text_35\">\r\n    <!-- 0 -->\r\n    <g style=\"fill:#ffffff;\" transform=\"translate(170.720625 43.12725)scale(0.12 -0.12)\">\r\n     <use xlink:href=\"#DejaVuSans-48\"/>\r\n    </g>\r\n   </g>\r\n   <g id=\"text_36\">\r\n    <!-- 0 -->\r\n    <g style=\"fill:#ffffff;\" transform=\"translate(204.200625 43.12725)scale(0.12 -0.12)\">\r\n     <use xlink:href=\"#DejaVuSans-48\"/>\r\n    </g>\r\n   </g>\r\n   <g id=\"text_37\">\r\n    <!-- 0 -->\r\n    <g style=\"fill:#ffffff;\" transform=\"translate(237.680625 43.12725)scale(0.12 -0.12)\">\r\n     <use xlink:href=\"#DejaVuSans-48\"/>\r\n    </g>\r\n   </g>\r\n   <g id=\"text_38\">\r\n    <!-- 0 -->\r\n    <g style=\"fill:#ffffff;\" transform=\"translate(271.160625 43.12725)scale(0.12 -0.12)\">\r\n     <use xlink:href=\"#DejaVuSans-48\"/>\r\n    </g>\r\n   </g>\r\n   <g id=\"text_39\">\r\n    <!-- 0 -->\r\n    <g style=\"fill:#ffffff;\" transform=\"translate(304.640625 43.12725)scale(0.12 -0.12)\">\r\n     <use xlink:href=\"#DejaVuSans-48\"/>\r\n    </g>\r\n   </g>\r\n   <g id=\"text_40\">\r\n    <!-- 0 -->\r\n    <g style=\"fill:#ffffff;\" transform=\"translate(338.120625 43.12725)scale(0.12 -0.12)\">\r\n     <use xlink:href=\"#DejaVuSans-48\"/>\r\n    </g>\r\n   </g>\r\n   <g id=\"text_41\">\r\n    <!-- 24 -->\r\n    <g style=\"fill:#ffffff;\" transform=\"translate(32.983125 64.87125)scale(0.12 -0.12)\">\r\n     <use xlink:href=\"#DejaVuSans-50\"/>\r\n     <use x=\"63.623047\" xlink:href=\"#DejaVuSans-52\"/>\r\n    </g>\r\n   </g>\r\n   <g id=\"text_42\">\r\n    <!-- 0 -->\r\n    <g style=\"fill:#ffffff;\" transform=\"translate(70.280625 64.87125)scale(0.12 -0.12)\">\r\n     <use xlink:href=\"#DejaVuSans-48\"/>\r\n    </g>\r\n   </g>\r\n   <g id=\"text_43\">\r\n    <!-- 29 -->\r\n    <g style=\"fill:#ffffff;\" transform=\"translate(99.943125 64.87125)scale(0.12 -0.12)\">\r\n     <use xlink:href=\"#DejaVuSans-50\"/>\r\n     <use x=\"63.623047\" xlink:href=\"#DejaVuSans-57\"/>\r\n    </g>\r\n   </g>\r\n   <g id=\"text_44\">\r\n    <!-- 0 -->\r\n    <g style=\"fill:#ffffff;\" transform=\"translate(137.240625 64.87125)scale(0.12 -0.12)\">\r\n     <use xlink:href=\"#DejaVuSans-48\"/>\r\n    </g>\r\n   </g>\r\n   <g id=\"text_45\">\r\n    <!-- 0 -->\r\n    <g style=\"fill:#ffffff;\" transform=\"translate(170.720625 64.87125)scale(0.12 -0.12)\">\r\n     <use xlink:href=\"#DejaVuSans-48\"/>\r\n    </g>\r\n   </g>\r\n   <g id=\"text_46\">\r\n    <!-- 0 -->\r\n    <g style=\"fill:#ffffff;\" transform=\"translate(204.200625 64.87125)scale(0.12 -0.12)\">\r\n     <use xlink:href=\"#DejaVuSans-48\"/>\r\n    </g>\r\n   </g>\r\n   <g id=\"text_47\">\r\n    <!-- 0 -->\r\n    <g style=\"fill:#ffffff;\" transform=\"translate(237.680625 64.87125)scale(0.12 -0.12)\">\r\n     <use xlink:href=\"#DejaVuSans-48\"/>\r\n    </g>\r\n   </g>\r\n   <g id=\"text_48\">\r\n    <!-- 0 -->\r\n    <g style=\"fill:#ffffff;\" transform=\"translate(271.160625 64.87125)scale(0.12 -0.12)\">\r\n     <use xlink:href=\"#DejaVuSans-48\"/>\r\n    </g>\r\n   </g>\r\n   <g id=\"text_49\">\r\n    <!-- 0 -->\r\n    <g style=\"fill:#ffffff;\" transform=\"translate(304.640625 64.87125)scale(0.12 -0.12)\">\r\n     <use xlink:href=\"#DejaVuSans-48\"/>\r\n    </g>\r\n   </g>\r\n   <g id=\"text_50\">\r\n    <!-- 0 -->\r\n    <g style=\"fill:#ffffff;\" transform=\"translate(338.120625 64.87125)scale(0.12 -0.12)\">\r\n     <use xlink:href=\"#DejaVuSans-48\"/>\r\n    </g>\r\n   </g>\r\n   <g id=\"text_51\">\r\n    <!-- 35 -->\r\n    <g style=\"fill:#ffffff;\" transform=\"translate(32.983125 86.61525)scale(0.12 -0.12)\">\r\n     <use xlink:href=\"#DejaVuSans-51\"/>\r\n     <use x=\"63.623047\" xlink:href=\"#DejaVuSans-53\"/>\r\n    </g>\r\n   </g>\r\n   <g id=\"text_52\">\r\n    <!-- 0 -->\r\n    <g style=\"fill:#ffffff;\" transform=\"translate(70.280625 86.61525)scale(0.12 -0.12)\">\r\n     <use xlink:href=\"#DejaVuSans-48\"/>\r\n    </g>\r\n   </g>\r\n   <g id=\"text_53\">\r\n    <!-- 5 -->\r\n    <g style=\"fill:#ffffff;\" transform=\"translate(103.760625 86.61525)scale(0.12 -0.12)\">\r\n     <use xlink:href=\"#DejaVuSans-53\"/>\r\n    </g>\r\n   </g>\r\n   <g id=\"text_54\">\r\n    <!-- 0 -->\r\n    <g style=\"fill:#ffffff;\" transform=\"translate(137.240625 86.61525)scale(0.12 -0.12)\">\r\n     <use xlink:href=\"#DejaVuSans-48\"/>\r\n    </g>\r\n   </g>\r\n   <g id=\"text_55\">\r\n    <!-- 0 -->\r\n    <g style=\"fill:#ffffff;\" transform=\"translate(170.720625 86.61525)scale(0.12 -0.12)\">\r\n     <use xlink:href=\"#DejaVuSans-48\"/>\r\n    </g>\r\n   </g>\r\n   <g id=\"text_56\">\r\n    <!-- 0 -->\r\n    <g style=\"fill:#ffffff;\" transform=\"translate(204.200625 86.61525)scale(0.12 -0.12)\">\r\n     <use xlink:href=\"#DejaVuSans-48\"/>\r\n    </g>\r\n   </g>\r\n   <g id=\"text_57\">\r\n    <!-- 1 -->\r\n    <g style=\"fill:#ffffff;\" transform=\"translate(237.680625 86.61525)scale(0.12 -0.12)\">\r\n     <use xlink:href=\"#DejaVuSans-49\"/>\r\n    </g>\r\n   </g>\r\n   <g id=\"text_58\">\r\n    <!-- 0 -->\r\n    <g style=\"fill:#ffffff;\" transform=\"translate(271.160625 86.61525)scale(0.12 -0.12)\">\r\n     <use xlink:href=\"#DejaVuSans-48\"/>\r\n    </g>\r\n   </g>\r\n   <g id=\"text_59\">\r\n    <!-- 0 -->\r\n    <g style=\"fill:#ffffff;\" transform=\"translate(304.640625 86.61525)scale(0.12 -0.12)\">\r\n     <use xlink:href=\"#DejaVuSans-48\"/>\r\n    </g>\r\n   </g>\r\n   <g id=\"text_60\">\r\n    <!-- 0 -->\r\n    <g style=\"fill:#ffffff;\" transform=\"translate(338.120625 86.61525)scale(0.12 -0.12)\">\r\n     <use xlink:href=\"#DejaVuSans-48\"/>\r\n    </g>\r\n   </g>\r\n   <g id=\"text_61\">\r\n    <!-- 33 -->\r\n    <g style=\"fill:#ffffff;\" transform=\"translate(32.983125 108.35925)scale(0.12 -0.12)\">\r\n     <use xlink:href=\"#DejaVuSans-51\"/>\r\n     <use x=\"63.623047\" xlink:href=\"#DejaVuSans-51\"/>\r\n    </g>\r\n   </g>\r\n   <g id=\"text_62\">\r\n    <!-- 0 -->\r\n    <g style=\"fill:#ffffff;\" transform=\"translate(70.280625 108.35925)scale(0.12 -0.12)\">\r\n     <use xlink:href=\"#DejaVuSans-48\"/>\r\n    </g>\r\n   </g>\r\n   <g id=\"text_63\">\r\n    <!-- 0 -->\r\n    <g style=\"fill:#ffffff;\" transform=\"translate(103.760625 108.35925)scale(0.12 -0.12)\">\r\n     <use xlink:href=\"#DejaVuSans-48\"/>\r\n    </g>\r\n   </g>\r\n   <g id=\"text_64\">\r\n    <!-- 0 -->\r\n    <g style=\"fill:#ffffff;\" transform=\"translate(137.240625 108.35925)scale(0.12 -0.12)\">\r\n     <use xlink:href=\"#DejaVuSans-48\"/>\r\n    </g>\r\n   </g>\r\n   <g id=\"text_65\">\r\n    <!-- 0 -->\r\n    <g style=\"fill:#ffffff;\" transform=\"translate(170.720625 108.35925)scale(0.12 -0.12)\">\r\n     <use xlink:href=\"#DejaVuSans-48\"/>\r\n    </g>\r\n   </g>\r\n   <g id=\"text_66\">\r\n    <!-- 0 -->\r\n    <g style=\"fill:#ffffff;\" transform=\"translate(204.200625 108.35925)scale(0.12 -0.12)\">\r\n     <use xlink:href=\"#DejaVuSans-48\"/>\r\n    </g>\r\n   </g>\r\n   <g id=\"text_67\">\r\n    <!-- 13 -->\r\n    <g style=\"fill:#ffffff;\" transform=\"translate(233.863125 108.35925)scale(0.12 -0.12)\">\r\n     <use xlink:href=\"#DejaVuSans-49\"/>\r\n     <use x=\"63.623047\" xlink:href=\"#DejaVuSans-51\"/>\r\n    </g>\r\n   </g>\r\n   <g id=\"text_68\">\r\n    <!-- 0 -->\r\n    <g style=\"fill:#ffffff;\" transform=\"translate(271.160625 108.35925)scale(0.12 -0.12)\">\r\n     <use xlink:href=\"#DejaVuSans-48\"/>\r\n    </g>\r\n   </g>\r\n   <g id=\"text_69\">\r\n    <!-- 0 -->\r\n    <g style=\"fill:#ffffff;\" transform=\"translate(304.640625 108.35925)scale(0.12 -0.12)\">\r\n     <use xlink:href=\"#DejaVuSans-48\"/>\r\n    </g>\r\n   </g>\r\n   <g id=\"text_70\">\r\n    <!-- 0 -->\r\n    <g style=\"fill:#ffffff;\" transform=\"translate(338.120625 108.35925)scale(0.12 -0.12)\">\r\n     <use xlink:href=\"#DejaVuSans-48\"/>\r\n    </g>\r\n   </g>\r\n   <g id=\"text_71\">\r\n    <!-- 23 -->\r\n    <g style=\"fill:#ffffff;\" transform=\"translate(32.983125 130.10325)scale(0.12 -0.12)\">\r\n     <use xlink:href=\"#DejaVuSans-50\"/>\r\n     <use x=\"63.623047\" xlink:href=\"#DejaVuSans-51\"/>\r\n    </g>\r\n   </g>\r\n   <g id=\"text_72\">\r\n    <!-- 0 -->\r\n    <g style=\"fill:#ffffff;\" transform=\"translate(70.280625 130.10325)scale(0.12 -0.12)\">\r\n     <use xlink:href=\"#DejaVuSans-48\"/>\r\n    </g>\r\n   </g>\r\n   <g id=\"text_73\">\r\n    <!-- 0 -->\r\n    <g style=\"fill:#ffffff;\" transform=\"translate(103.760625 130.10325)scale(0.12 -0.12)\">\r\n     <use xlink:href=\"#DejaVuSans-48\"/>\r\n    </g>\r\n   </g>\r\n   <g id=\"text_74\">\r\n    <!-- 0 -->\r\n    <g style=\"fill:#ffffff;\" transform=\"translate(137.240625 130.10325)scale(0.12 -0.12)\">\r\n     <use xlink:href=\"#DejaVuSans-48\"/>\r\n    </g>\r\n   </g>\r\n   <g id=\"text_75\">\r\n    <!-- 0 -->\r\n    <g style=\"fill:#ffffff;\" transform=\"translate(170.720625 130.10325)scale(0.12 -0.12)\">\r\n     <use xlink:href=\"#DejaVuSans-48\"/>\r\n    </g>\r\n   </g>\r\n   <g id=\"text_76\">\r\n    <!-- 0 -->\r\n    <g style=\"fill:#ffffff;\" transform=\"translate(204.200625 130.10325)scale(0.12 -0.12)\">\r\n     <use xlink:href=\"#DejaVuSans-48\"/>\r\n    </g>\r\n   </g>\r\n   <g id=\"text_77\">\r\n    <!-- 24 -->\r\n    <g style=\"fill:#ffffff;\" transform=\"translate(233.863125 130.10325)scale(0.12 -0.12)\">\r\n     <use xlink:href=\"#DejaVuSans-50\"/>\r\n     <use x=\"63.623047\" xlink:href=\"#DejaVuSans-52\"/>\r\n    </g>\r\n   </g>\r\n   <g id=\"text_78\">\r\n    <!-- 0 -->\r\n    <g style=\"fill:#ffffff;\" transform=\"translate(271.160625 130.10325)scale(0.12 -0.12)\">\r\n     <use xlink:href=\"#DejaVuSans-48\"/>\r\n    </g>\r\n   </g>\r\n   <g id=\"text_79\">\r\n    <!-- 0 -->\r\n    <g style=\"fill:#ffffff;\" transform=\"translate(304.640625 130.10325)scale(0.12 -0.12)\">\r\n     <use xlink:href=\"#DejaVuSans-48\"/>\r\n    </g>\r\n   </g>\r\n   <g id=\"text_80\">\r\n    <!-- 0 -->\r\n    <g style=\"fill:#ffffff;\" transform=\"translate(338.120625 130.10325)scale(0.12 -0.12)\">\r\n     <use xlink:href=\"#DejaVuSans-48\"/>\r\n    </g>\r\n   </g>\r\n   <g id=\"text_81\">\r\n    <!-- 7 -->\r\n    <g style=\"fill:#ffffff;\" transform=\"translate(36.800625 151.84725)scale(0.12 -0.12)\">\r\n     <use xlink:href=\"#DejaVuSans-55\"/>\r\n    </g>\r\n   </g>\r\n   <g id=\"text_82\">\r\n    <!-- 0 -->\r\n    <g style=\"fill:#ffffff;\" transform=\"translate(70.280625 151.84725)scale(0.12 -0.12)\">\r\n     <use xlink:href=\"#DejaVuSans-48\"/>\r\n    </g>\r\n   </g>\r\n   <g id=\"text_83\">\r\n    <!-- 0 -->\r\n    <g style=\"fill:#ffffff;\" transform=\"translate(103.760625 151.84725)scale(0.12 -0.12)\">\r\n     <use xlink:href=\"#DejaVuSans-48\"/>\r\n    </g>\r\n   </g>\r\n   <g id=\"text_84\">\r\n    <!-- 0 -->\r\n    <g style=\"fill:#ffffff;\" transform=\"translate(137.240625 151.84725)scale(0.12 -0.12)\">\r\n     <use xlink:href=\"#DejaVuSans-48\"/>\r\n    </g>\r\n   </g>\r\n   <g id=\"text_85\">\r\n    <!-- 0 -->\r\n    <g style=\"fill:#ffffff;\" transform=\"translate(170.720625 151.84725)scale(0.12 -0.12)\">\r\n     <use xlink:href=\"#DejaVuSans-48\"/>\r\n    </g>\r\n   </g>\r\n   <g id=\"text_86\">\r\n    <!-- 0 -->\r\n    <g style=\"fill:#ffffff;\" transform=\"translate(204.200625 151.84725)scale(0.12 -0.12)\">\r\n     <use xlink:href=\"#DejaVuSans-48\"/>\r\n    </g>\r\n   </g>\r\n   <g id=\"text_87\">\r\n    <!-- 389 -->\r\n    <g style=\"fill:#ffffff;\" transform=\"translate(230.045625 151.84725)scale(0.12 -0.12)\">\r\n     <use xlink:href=\"#DejaVuSans-51\"/>\r\n     <use x=\"63.623047\" xlink:href=\"#DejaVuSans-56\"/>\r\n     <use x=\"127.246094\" xlink:href=\"#DejaVuSans-57\"/>\r\n    </g>\r\n   </g>\r\n   <g id=\"text_88\">\r\n    <!-- 0 -->\r\n    <g style=\"fill:#ffffff;\" transform=\"translate(271.160625 151.84725)scale(0.12 -0.12)\">\r\n     <use xlink:href=\"#DejaVuSans-48\"/>\r\n    </g>\r\n   </g>\r\n   <g id=\"text_89\">\r\n    <!-- 3 -->\r\n    <g style=\"fill:#ffffff;\" transform=\"translate(304.640625 151.84725)scale(0.12 -0.12)\">\r\n     <use xlink:href=\"#DejaVuSans-51\"/>\r\n    </g>\r\n   </g>\r\n   <g id=\"text_90\">\r\n    <!-- 1 -->\r\n    <g style=\"fill:#ffffff;\" transform=\"translate(338.120625 151.84725)scale(0.12 -0.12)\">\r\n     <use xlink:href=\"#DejaVuSans-49\"/>\r\n    </g>\r\n   </g>\r\n   <g id=\"text_91\">\r\n    <!-- 9 -->\r\n    <g style=\"fill:#ffffff;\" transform=\"translate(36.800625 173.59125)scale(0.12 -0.12)\">\r\n     <use xlink:href=\"#DejaVuSans-57\"/>\r\n    </g>\r\n   </g>\r\n   <g id=\"text_92\">\r\n    <!-- 0 -->\r\n    <g style=\"fill:#ffffff;\" transform=\"translate(70.280625 173.59125)scale(0.12 -0.12)\">\r\n     <use xlink:href=\"#DejaVuSans-48\"/>\r\n    </g>\r\n   </g>\r\n   <g id=\"text_93\">\r\n    <!-- 0 -->\r\n    <g style=\"fill:#ffffff;\" transform=\"translate(103.760625 173.59125)scale(0.12 -0.12)\">\r\n     <use xlink:href=\"#DejaVuSans-48\"/>\r\n    </g>\r\n   </g>\r\n   <g id=\"text_94\">\r\n    <!-- 0 -->\r\n    <g style=\"fill:#ffffff;\" transform=\"translate(137.240625 173.59125)scale(0.12 -0.12)\">\r\n     <use xlink:href=\"#DejaVuSans-48\"/>\r\n    </g>\r\n   </g>\r\n   <g id=\"text_95\">\r\n    <!-- 0 -->\r\n    <g style=\"fill:#ffffff;\" transform=\"translate(170.720625 173.59125)scale(0.12 -0.12)\">\r\n     <use xlink:href=\"#DejaVuSans-48\"/>\r\n    </g>\r\n   </g>\r\n   <g id=\"text_96\">\r\n    <!-- 0 -->\r\n    <g style=\"fill:#ffffff;\" transform=\"translate(204.200625 173.59125)scale(0.12 -0.12)\">\r\n     <use xlink:href=\"#DejaVuSans-48\"/>\r\n    </g>\r\n   </g>\r\n   <g id=\"text_97\">\r\n    <!-- 13 -->\r\n    <g style=\"fill:#ffffff;\" transform=\"translate(233.863125 173.59125)scale(0.12 -0.12)\">\r\n     <use xlink:href=\"#DejaVuSans-49\"/>\r\n     <use x=\"63.623047\" xlink:href=\"#DejaVuSans-51\"/>\r\n    </g>\r\n   </g>\r\n   <g id=\"text_98\">\r\n    <!-- 8 -->\r\n    <g style=\"fill:#ffffff;\" transform=\"translate(271.160625 173.59125)scale(0.12 -0.12)\">\r\n     <use xlink:href=\"#DejaVuSans-56\"/>\r\n    </g>\r\n   </g>\r\n   <g id=\"text_99\">\r\n    <!-- 1 -->\r\n    <g style=\"fill:#ffffff;\" transform=\"translate(304.640625 173.59125)scale(0.12 -0.12)\">\r\n     <use xlink:href=\"#DejaVuSans-49\"/>\r\n    </g>\r\n   </g>\r\n   <g id=\"text_100\">\r\n    <!-- 1 -->\r\n    <g style=\"fill:#ffffff;\" transform=\"translate(338.120625 173.59125)scale(0.12 -0.12)\">\r\n     <use xlink:href=\"#DejaVuSans-49\"/>\r\n    </g>\r\n   </g>\r\n   <g id=\"text_101\">\r\n    <!-- 13 -->\r\n    <g style=\"fill:#ffffff;\" transform=\"translate(32.983125 195.33525)scale(0.12 -0.12)\">\r\n     <use xlink:href=\"#DejaVuSans-49\"/>\r\n     <use x=\"63.623047\" xlink:href=\"#DejaVuSans-51\"/>\r\n    </g>\r\n   </g>\r\n   <g id=\"text_102\">\r\n    <!-- 0 -->\r\n    <g style=\"fill:#ffffff;\" transform=\"translate(70.280625 195.33525)scale(0.12 -0.12)\">\r\n     <use xlink:href=\"#DejaVuSans-48\"/>\r\n    </g>\r\n   </g>\r\n   <g id=\"text_103\">\r\n    <!-- 0 -->\r\n    <g style=\"fill:#ffffff;\" transform=\"translate(103.760625 195.33525)scale(0.12 -0.12)\">\r\n     <use xlink:href=\"#DejaVuSans-48\"/>\r\n    </g>\r\n   </g>\r\n   <g id=\"text_104\">\r\n    <!-- 0 -->\r\n    <g style=\"fill:#ffffff;\" transform=\"translate(137.240625 195.33525)scale(0.12 -0.12)\">\r\n     <use xlink:href=\"#DejaVuSans-48\"/>\r\n    </g>\r\n   </g>\r\n   <g id=\"text_105\">\r\n    <!-- 0 -->\r\n    <g style=\"fill:#ffffff;\" transform=\"translate(170.720625 195.33525)scale(0.12 -0.12)\">\r\n     <use xlink:href=\"#DejaVuSans-48\"/>\r\n    </g>\r\n   </g>\r\n   <g id=\"text_106\">\r\n    <!-- 0 -->\r\n    <g style=\"fill:#ffffff;\" transform=\"translate(204.200625 195.33525)scale(0.12 -0.12)\">\r\n     <use xlink:href=\"#DejaVuSans-48\"/>\r\n    </g>\r\n   </g>\r\n   <g id=\"text_107\">\r\n    <!-- 0 -->\r\n    <g style=\"fill:#ffffff;\" transform=\"translate(237.680625 195.33525)scale(0.12 -0.12)\">\r\n     <use xlink:href=\"#DejaVuSans-48\"/>\r\n    </g>\r\n   </g>\r\n   <g id=\"text_108\">\r\n    <!-- 0 -->\r\n    <g style=\"fill:#ffffff;\" transform=\"translate(271.160625 195.33525)scale(0.12 -0.12)\">\r\n     <use xlink:href=\"#DejaVuSans-48\"/>\r\n    </g>\r\n   </g>\r\n   <g id=\"text_109\">\r\n    <!-- 104 -->\r\n    <g style=\"fill:#262626;\" transform=\"translate(297.005625 195.33525)scale(0.12 -0.12)\">\r\n     <use xlink:href=\"#DejaVuSans-49\"/>\r\n     <use x=\"63.623047\" xlink:href=\"#DejaVuSans-48\"/>\r\n     <use x=\"127.246094\" xlink:href=\"#DejaVuSans-52\"/>\r\n    </g>\r\n   </g>\r\n   <g id=\"text_110\">\r\n    <!-- 15 -->\r\n    <g style=\"fill:#ffffff;\" transform=\"translate(334.303125 195.33525)scale(0.12 -0.12)\">\r\n     <use xlink:href=\"#DejaVuSans-49\"/>\r\n     <use x=\"63.623047\" xlink:href=\"#DejaVuSans-53\"/>\r\n    </g>\r\n   </g>\r\n   <g id=\"text_111\">\r\n    <!-- 0 -->\r\n    <g style=\"fill:#ffffff;\" transform=\"translate(36.800625 217.07925)scale(0.12 -0.12)\">\r\n     <use xlink:href=\"#DejaVuSans-48\"/>\r\n    </g>\r\n   </g>\r\n   <g id=\"text_112\">\r\n    <!-- 0 -->\r\n    <g style=\"fill:#ffffff;\" transform=\"translate(70.280625 217.07925)scale(0.12 -0.12)\">\r\n     <use xlink:href=\"#DejaVuSans-48\"/>\r\n    </g>\r\n   </g>\r\n   <g id=\"text_113\">\r\n    <!-- 0 -->\r\n    <g style=\"fill:#ffffff;\" transform=\"translate(103.760625 217.07925)scale(0.12 -0.12)\">\r\n     <use xlink:href=\"#DejaVuSans-48\"/>\r\n    </g>\r\n   </g>\r\n   <g id=\"text_114\">\r\n    <!-- 0 -->\r\n    <g style=\"fill:#ffffff;\" transform=\"translate(137.240625 217.07925)scale(0.12 -0.12)\">\r\n     <use xlink:href=\"#DejaVuSans-48\"/>\r\n    </g>\r\n   </g>\r\n   <g id=\"text_115\">\r\n    <!-- 0 -->\r\n    <g style=\"fill:#ffffff;\" transform=\"translate(170.720625 217.07925)scale(0.12 -0.12)\">\r\n     <use xlink:href=\"#DejaVuSans-48\"/>\r\n    </g>\r\n   </g>\r\n   <g id=\"text_116\">\r\n    <!-- 0 -->\r\n    <g style=\"fill:#ffffff;\" transform=\"translate(204.200625 217.07925)scale(0.12 -0.12)\">\r\n     <use xlink:href=\"#DejaVuSans-48\"/>\r\n    </g>\r\n   </g>\r\n   <g id=\"text_117\">\r\n    <!-- 0 -->\r\n    <g style=\"fill:#ffffff;\" transform=\"translate(237.680625 217.07925)scale(0.12 -0.12)\">\r\n     <use xlink:href=\"#DejaVuSans-48\"/>\r\n    </g>\r\n   </g>\r\n   <g id=\"text_118\">\r\n    <!-- 0 -->\r\n    <g style=\"fill:#ffffff;\" transform=\"translate(271.160625 217.07925)scale(0.12 -0.12)\">\r\n     <use xlink:href=\"#DejaVuSans-48\"/>\r\n    </g>\r\n   </g>\r\n   <g id=\"text_119\">\r\n    <!-- 3 -->\r\n    <g style=\"fill:#ffffff;\" transform=\"translate(304.640625 217.07925)scale(0.12 -0.12)\">\r\n     <use xlink:href=\"#DejaVuSans-51\"/>\r\n    </g>\r\n   </g>\r\n   <g id=\"text_120\">\r\n    <!-- 228 -->\r\n    <g style=\"fill:#262626;\" transform=\"translate(330.485625 217.07925)scale(0.12 -0.12)\">\r\n     <use xlink:href=\"#DejaVuSans-50\"/>\r\n     <use x=\"63.623047\" xlink:href=\"#DejaVuSans-50\"/>\r\n     <use x=\"127.246094\" xlink:href=\"#DejaVuSans-56\"/>\r\n    </g>\r\n   </g>\r\n  </g>\r\n </g>\r\n <defs>\r\n  <clipPath id=\"p0cbb38c517\">\r\n   <rect height=\"217.44\" width=\"334.8\" x=\"23.878125\" y=\"7.2\"/>\r\n  </clipPath>\r\n </defs>\r\n</svg>\r\n",
      "image/png": "[encoded data removed]"
     },
     "metadata": {
      "needs_background": "light"
     }
    }
   ],
   "source": [
    "import seaborn as sns\n",
    "from sklearn.metrics import confusion_matrix\n",
    "def draw_confusion_matrix(true,preds):\n",
    "    conf_matx = confusion_matrix(true, preds)\n",
    "    sns.heatmap(conf_matx, annot=True,annot_kws={\"size\": 12},fmt='g', cbar=False, cmap= 'coolwarm')\n",
    "    plt.show()\n",
    "draw_confusion_matrix(testlabel.argmax(axis=1), y_pred.round().argmax(axis=1))"
   ]
  },
  {
   "cell_type": "code",
   "execution_count": 20,
   "metadata": {},
   "outputs": [
    {
     "output_type": "stream",
     "name": "stdout",
     "text": [
      "5582.333657209483\n[[[ 0.75326052]\n  [-1.33183846]\n  [-0.90995566]\n  [-0.28526469]\n  [-0.12140528]\n  [-1.08576708]\n  [ 0.90454148]]]\n[[[ 0.01943008]\n  [ 1.61764229]\n  [-1.01337571]\n  [-1.73658514]\n  [ 0.08375301]\n  [15.99267465]\n  [-1.21657982]]]\n"
     ]
    }
   ],
   "source": [
    "mean = data['Number'].mean()\n",
    "print(mean)\n",
    "\n",
    "# print(test.columns)\n",
    "print((test_norm[1000:1001]))\n",
    "\n",
    "student_x = np.array([[[mean], [120], [140], [140], [4.5], [3.6], [4] ]])\n",
    "student_norm = (student_x - test_mean) / test_std\n",
    "print(student_norm)\n"
   ]
  },
  {
   "cell_type": "code",
   "execution_count": 21,
   "metadata": {},
   "outputs": [
    {
     "output_type": "stream",
     "name": "stdout",
     "text": [
      "[[[0.753260524234086], [-1.331838460299905], [-0.9099556556205362], [-0.2852646907601703], [-0.12140527517771438], [-1.0857670805890403], [0.9045414845494136]]]\n"
     ]
    }
   ],
   "source": [
    "test_norm[1000:1001]\n",
    "print(test_norm[1000:1001].tolist())\n"
   ]
  },
  {
   "cell_type": "code",
   "execution_count": 22,
   "metadata": {},
   "outputs": [
    {
     "output_type": "stream",
     "name": "stdout",
     "text": [
      "[[[ 0.01943008]\n  [ 1.61764229]\n  [-1.01337571]\n  [-1.73658514]\n  [ 0.08375301]\n  [15.99267465]\n  [-1.21657982]]]\n[[8.8555980e-06 1.2802990e-06 9.7409036e-04 3.2031022e-03 1.9343540e-03\n  9.6698519e-04 1.6179761e-01 6.2628321e-02 7.0223624e-01 6.6249184e-02]]\nUniversity of Texas Arlington\n"
     ]
    }
   ],
   "source": [
    "print(student_norm)\n",
    "y = model.predict(student_norm)\n",
    "#print(test_input_data[1:])\n",
    "\n",
    "print(y)\n",
    "m=call(np.argmax(y))\n",
    "print(m)"
   ]
  },
  {
   "cell_type": "code",
   "execution_count": 23,
   "metadata": {},
   "outputs": [
    {
     "output_type": "stream",
     "name": "stdout",
     "text": [
      "INFO:tensorflow:Assets written to: models/cnn_model/assets\n"
     ]
    }
   ],
   "source": [
    "model.save('models/cnn_model/')"
   ]
  },
  {
   "cell_type": "code",
   "execution_count": 24,
   "metadata": {},
   "outputs": [],
   "source": [
    "new_model = keras.models.load_model('models/cnn_model/')"
   ]
  },
  {
   "cell_type": "code",
   "execution_count": 25,
   "metadata": {},
   "outputs": [
    {
     "output_type": "stream",
     "name": "stdout",
     "text": [
      "[[8.8555980e-06 1.2802990e-06 9.7409036e-04 3.2031022e-03 1.9343540e-03\n  9.6698519e-04 1.6179761e-01 6.2628321e-02 7.0223624e-01 6.6249184e-02]]\nUniversity of Texas Arlington\n"
     ]
    }
   ],
   "source": [
    "y = new_model.predict(student_norm)\n",
    "#print(test_input_data[1:])\n",
    "\n",
    "print(y)\n",
    "m=call(np.argmax(y))\n",
    "print(m)"
   ]
  },
  {
   "cell_type": "code",
   "execution_count": 26,
   "metadata": {},
   "outputs": [
    {
     "output_type": "stream",
     "name": "stdout",
     "text": [
      "[[5.59760845e+03]\n [1.02787952e+02]\n [1.49529269e+02]\n [1.60508866e+02]\n [4.57475103e+00]\n [7.55676586e-01]\n [5.63198931e+01]]\n[[2.99181624e+03]\n [1.18829802e+01]\n [9.79996336e+00]\n [1.17163145e+01]\n [3.05715524e+01]\n [3.24254052e-01]\n [4.54606779e+01]]\n[[5.52284728e+03]\n [1.02998054e+02]\n [1.49798638e+02]\n [1.60341440e+02]\n [3.88764591e+00]\n [7.43904669e-01]\n [5.90612840e+01]]\n[[3.06156058e+03]\n [1.05103246e+01]\n [9.66930430e+00]\n [1.17134710e+01]\n [7.31142789e+00]\n [1.78587722e-01]\n [4.52590806e+01]]\n"
     ]
    }
   ],
   "source": [
    "training_mean = np.mean(train_input_data, axis=0)\n",
    "train_std_deviation = np.std(train_input_data, axis=0)\n",
    "testing_mean = np.mean(test_input_data, axis=0)\n",
    "test_std_deviation = np.std(test_input_data, axis=0)\n",
    "\n",
    "print(training_mean)\n",
    "print(train_std_deviation)\n",
    "print(testing_mean)\n",
    "print(test_std_deviation)\n"
   ]
  },
  {
   "cell_type": "code",
   "execution_count": 27,
   "metadata": {},
   "outputs": [],
   "source": [
    "student_x = np.array([[[mean], [120], [140], [140], [4.5], [3.6], [4] ]])\n",
    "student_norm = (student_x - testing_mean) / test_std_deviation"
   ]
  },
  {
   "cell_type": "code",
   "execution_count": 28,
   "metadata": {},
   "outputs": [
    {
     "output_type": "execute_result",
     "data": {
      "text/plain": [
       "University of Texas Dallas                             2093\n",
       "University of Southern California                      1160\n",
       "University of Texas Arlington                           675\n",
       "University of Utah                                      258\n",
       "Virginia Polytechnic Institute and State University     248\n",
       "University of Wisconsin Madison                         196\n",
       "University of Washington                                193\n",
       "University of Texas Austin                              129\n",
       "Wayne State University                                  110\n",
       "Worcester Polytechnic Institute                          84\n",
       "Name: University, dtype: int64"
      ]
     },
     "metadata": {},
     "execution_count": 28
    }
   ],
   "source": [
    "data['University'].value_counts()"
   ]
  },
  {
   "cell_type": "code",
   "execution_count": null,
   "metadata": {},
   "outputs": [],
   "source": []
  }
 ]
}