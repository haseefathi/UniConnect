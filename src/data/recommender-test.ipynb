{
 "metadata": {
  "language_info": {
   "codemirror_mode": {
    "name": "ipython",
    "version": 3
   },
   "file_extension": ".py",
   "mimetype": "text/x-python",
   "name": "python",
   "nbconvert_exporter": "python",
   "pygments_lexer": "ipython3",
   "version": "3.8.3"
  },
  "orig_nbformat": 2,
  "kernelspec": {
   "name": "python383jvsc74a57bd0cfdd377359446e54a0dbc4147c344b93f39386d0ac34b81f8fbd11ee54488472",
   "display_name": "Python 3.8.3 64-bit"
  },
  "metadata": {
   "interpreter": {
    "hash": "cfdd377359446e54a0dbc4147c344b93f39386d0ac34b81f8fbd11ee54488472"
   }
  }
 },
 "nbformat": 4,
 "nbformat_minor": 2,
 "cells": [
  {
   "cell_type": "code",
   "execution_count": 3,
   "metadata": {},
   "outputs": [],
   "source": [
    "from keras.models import Sequential\n",
    "from keras.layers import Dense\n",
    "import numpy as np\n",
    "from keras.optimizers import SGD"
   ]
  },
  {
   "cell_type": "code",
   "execution_count": 4,
   "metadata": {},
   "outputs": [],
   "source": [
    "output_data = np.array([[0, 0, 1], [0, 1, 0], [1, 0, 0]])\n",
    "temperature = np.array([[40, 20], [60, 40], [80, 60]])"
   ]
  },
  {
   "cell_type": "code",
   "execution_count": 5,
   "metadata": {},
   "outputs": [
    {
     "output_type": "stream",
     "name": "stdout",
     "text": [
      "1/1 [==============================] - 0s 170ms/step - loss: 0.0037 - accuracy: 1.0000\n",
      "[[0. 0. 1.]\n",
      " [0. 1. 0.]\n",
      " [1. 0. 0.]]\n"
     ]
    }
   ],
   "source": [
    "# Build dataset\n",
    "input_data = np.array([[40, 20], [60, 40], [80, 60]])\n",
    "output_data = np.array([[0, 0, 1], [0, 1, 0], [1, 0, 0]]) # cloth\n",
    " \n",
    "seed = 7\n",
    "np.random.seed(seed)\n",
    " \n",
    "model = Sequential()\n",
    "model.add(Dense(8, input_dim=2, activation='sigmoid'))\n",
    "model.add(Dense(256, input_dim=2, activation='sigmoid'))\n",
    "model.add(Dense(3, activation='softmax'))\n",
    " \n",
    "model.compile(loss='categorical_crossentropy', optimizer='adam', metrics=['accuracy'])\n",
    " \n",
    "# Fit the model\n",
    "model.fit(input_data, output_data, epochs=1000, batch_size=32, verbose=0)\n",
    " \n",
    "# evaluate the model\n",
    "loss, accuracy = model.evaluate(input_data, output_data)\n",
    " \n",
    "# calculate predictions\n",
    "predictions = model.predict(input_data)\n",
    "print (np.round(predictions))"
   ]
  },
  {
   "cell_type": "code",
   "execution_count": null,
   "metadata": {},
   "outputs": [],
   "source": []
  }
 ]
}